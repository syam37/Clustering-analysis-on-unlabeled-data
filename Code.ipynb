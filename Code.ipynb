{
  "cells": [
    {
      "cell_type": "markdown",
      "metadata": {
        "id": "CasPUlXn8pMu"
      },
      "source": [
        "# Problem statement: \n",
        "*   I am going to explore my data(salaried employees of a city hyderabad) with clustering algorithms. My intention is to see range of settled employees in hyderabad city like well-settled,still struggling to settle,fresher to get settle,stress less living employees,not well settled.... based on their experience, salary, qualification,designation, working company..etc\n",
        "*   Here i am using KMeans, KMedoids, SOM clustering algorithms and I am going to compare these clustering algorithms whether they are giving the clusters as i thought and conclude with better clustering algorithm for this dataset  "
      ]
    },
    {
      "cell_type": "markdown",
      "metadata": {
        "id": "gA63F5BCaCMS"
      },
      "source": [
        "# About the dataset:\n",
        "*   Hyderabad Salaried Employees Dataset\n",
        "*   It is a dataset with 28848 records with 9 attributes(columns). I had chosen the dataset at kaggle. It is a dataset of salaried employee data with their name,company,designation, experience,location and salary,category,etc., \n",
        "*    [kaggle link for dataset](https://www.kaggle.com/datasets/shubamsumbria/hyderabad-salaried-employees-dataset-clustering/download?datasetVersionNumber=2)"
      ]
    },
    {
      "cell_type": "markdown",
      "metadata": {
        "id": "yCr63FgXCX3v"
      },
      "source": [
        "## 1. Importing Required Libararies and Modules"
      ]
    },
    {
      "cell_type": "code",
      "execution_count": 1,
      "metadata": {
        "colab": {
          "base_uri": "https://localhost:8080/"
        },
        "id": "uPuv5jqKNXDb",
        "outputId": "de99d004-cffb-4993-f80e-b5b9e9730e5b"
      },
      "outputs": [
        {
          "name": "stdout",
          "output_type": "stream",
          "text": [
            "Looking in indexes: https://pypi.org/simple, https://us-python.pkg.dev/colab-wheels/public/simple/\n",
            "Requirement already satisfied: minisom in /usr/local/lib/python3.8/dist-packages (2.3.0)\n"
          ]
        }
      ],
      "source": [
        "!pip install minisom  #minimalistic SOM to perform self-organizing feature maps"
      ]
    },
    {
      "cell_type": "code",
      "execution_count": 2,
      "metadata": {
        "colab": {
          "base_uri": "https://localhost:8080/"
        },
        "id": "T1S4Tug0NfIC",
        "outputId": "c129dbb1-aec5-4bd5-82db-4666b5afcde3"
      },
      "outputs": [
        {
          "name": "stdout",
          "output_type": "stream",
          "text": [
            "Looking in indexes: https://pypi.org/simple, https://us-python.pkg.dev/colab-wheels/public/simple/\n",
            "Requirement already satisfied: scikit-learn-extra in /usr/local/lib/python3.8/dist-packages (0.2.0)\n",
            "Requirement already satisfied: numpy>=1.13.3 in /usr/local/lib/python3.8/dist-packages (from scikit-learn-extra) (1.21.6)\n",
            "Requirement already satisfied: scipy>=0.19.1 in /usr/local/lib/python3.8/dist-packages (from scikit-learn-extra) (1.7.3)\n",
            "Requirement already satisfied: scikit-learn>=0.23.0 in /usr/local/lib/python3.8/dist-packages (from scikit-learn-extra) (1.0.2)\n",
            "Requirement already satisfied: threadpoolctl>=2.0.0 in /usr/local/lib/python3.8/dist-packages (from scikit-learn>=0.23.0->scikit-learn-extra) (3.1.0)\n",
            "Requirement already satisfied: joblib>=0.11 in /usr/local/lib/python3.8/dist-packages (from scikit-learn>=0.23.0->scikit-learn-extra) (1.2.0)\n"
          ]
        }
      ],
      "source": [
        "!pip install scikit-learn-extra"
      ]
    },
    {
      "cell_type": "code",
      "execution_count": 3,
      "metadata": {
        "id": "BWfTyq___N5o"
      },
      "outputs": [],
      "source": [
        "import warnings\n",
        "warnings.filterwarnings('ignore')\n",
        "import pandas as pd\n",
        "import numpy as np\n",
        "import missingno as msno\n",
        "import matplotlib.pyplot as plt\n",
        "import seaborn as sns\n",
        "from minisom import MiniSom\n",
        "from sklearn.preprocessing import LabelEncoder,normalize\n",
        "from sklearn.cluster import KMeans\n",
        "from sklearn.metrics import silhouette_score\n",
        "from sklearn.decomposition import PCA\n",
        "from sklearn_extra.cluster import KMedoids"
      ]
    },
    {
      "cell_type": "markdown",
      "metadata": {
        "id": "w0P_Sq35DMob"
      },
      "source": [
        "# 2. Loading Dataset into Pandas' DataFrame"
      ]
    },
    {
      "cell_type": "code",
      "execution_count": 4,
      "metadata": {
        "colab": {
          "base_uri": "https://localhost:8080/",
          "height": 337
        },
        "id": "T7CD5ioFB6Jv",
        "outputId": "84f8cbdc-f20c-420d-84e1-cd8959831bfc"
      },
      "outputs": [
        {
          "data": {
            "text/html": [
              "\n",
              "  <div id=\"df-fb6e1829-346d-4e43-8f56-1e5504e19099\">\n",
              "    <div class=\"colab-df-container\">\n",
              "      <div>\n",
              "<style scoped>\n",
              "    .dataframe tbody tr th:only-of-type {\n",
              "        vertical-align: middle;\n",
              "    }\n",
              "\n",
              "    .dataframe tbody tr th {\n",
              "        vertical-align: top;\n",
              "    }\n",
              "\n",
              "    .dataframe thead th {\n",
              "        text-align: right;\n",
              "    }\n",
              "</style>\n",
              "<table border=\"1\" class=\"dataframe\">\n",
              "  <thead>\n",
              "    <tr style=\"text-align: right;\">\n",
              "      <th></th>\n",
              "      <th>candidateName</th>\n",
              "      <th>companyName</th>\n",
              "      <th>designation</th>\n",
              "      <th>experienceMas</th>\n",
              "      <th>locationCurrentMas</th>\n",
              "      <th>qualificationMas</th>\n",
              "      <th>qualificationMas2</th>\n",
              "      <th>salary</th>\n",
              "      <th>Category</th>\n",
              "    </tr>\n",
              "  </thead>\n",
              "  <tbody>\n",
              "    <tr>\n",
              "      <th>0</th>\n",
              "      <td>Ruchismita Dash</td>\n",
              "      <td>Amdocs</td>\n",
              "      <td>Software Developer</td>\n",
              "      <td>2 Year(s) 1 Month(s)</td>\n",
              "      <td>Hyderabad/ Secunderabad</td>\n",
              "      <td>BE/ B.Tech (Engineering)</td>\n",
              "      <td>NaN</td>\n",
              "      <td>Rs. 6.71 lacs</td>\n",
              "      <td>HYDERABAD-SALARIED</td>\n",
              "    </tr>\n",
              "    <tr>\n",
              "      <th>1</th>\n",
              "      <td>MANISHA DAS</td>\n",
              "      <td>APOLLO HOSPITALS ENTERPRISES LIMITED</td>\n",
              "      <td>SENIOR EXECUTIVE-OPERATIONS</td>\n",
              "      <td>5 Year(s) 9 Month(s)</td>\n",
              "      <td>Hyderabad/ Secunderabad</td>\n",
              "      <td>MBA/ PGDM</td>\n",
              "      <td>B.Pharm. (Pharmacy)</td>\n",
              "      <td>Rs. 5.0 lacs</td>\n",
              "      <td>HYDERABAD-SALARIED</td>\n",
              "    </tr>\n",
              "    <tr>\n",
              "      <th>2</th>\n",
              "      <td>C J GEETHA PRIYA</td>\n",
              "      <td>propertyoneshop.com</td>\n",
              "      <td>System Administrator</td>\n",
              "      <td>4 Year(s) 4 Month(s)</td>\n",
              "      <td>Hyderabad/ Secunderabad</td>\n",
              "      <td>B.Com. (Commerce)</td>\n",
              "      <td>NaN</td>\n",
              "      <td>Rs. 84.0 lacs</td>\n",
              "      <td>HYDERABAD-SALARIED</td>\n",
              "    </tr>\n",
              "    <tr>\n",
              "      <th>3</th>\n",
              "      <td>SRIKANTH</td>\n",
              "      <td>Axis Bank Ltd</td>\n",
              "      <td>NaN</td>\n",
              "      <td>7 Year(s) 11 Month(s)</td>\n",
              "      <td>Hyderabad/ Secunderabad</td>\n",
              "      <td>NaN</td>\n",
              "      <td>MBA/ PGDM</td>\n",
              "      <td>Rs. 7.0 lacs</td>\n",
              "      <td>HYDERABAD-SALARIED</td>\n",
              "    </tr>\n",
              "    <tr>\n",
              "      <th>4</th>\n",
              "      <td>Madduri Srinivas</td>\n",
              "      <td>CTS</td>\n",
              "      <td>Associate Projects</td>\n",
              "      <td>6 Year(s) 8 Month(s)</td>\n",
              "      <td>Hyderabad/ Secunderabad</td>\n",
              "      <td>B.Com. (Commerce)</td>\n",
              "      <td>MCA/ PGDCA</td>\n",
              "      <td>Rs. 8.05 lacs</td>\n",
              "      <td>HYDERABAD-SALARIED</td>\n",
              "    </tr>\n",
              "  </tbody>\n",
              "</table>\n",
              "</div>\n",
              "      <button class=\"colab-df-convert\" onclick=\"convertToInteractive('df-fb6e1829-346d-4e43-8f56-1e5504e19099')\"\n",
              "              title=\"Convert this dataframe to an interactive table.\"\n",
              "              style=\"display:none;\">\n",
              "        \n",
              "  <svg xmlns=\"http://www.w3.org/2000/svg\" height=\"24px\"viewBox=\"0 0 24 24\"\n",
              "       width=\"24px\">\n",
              "    <path d=\"M0 0h24v24H0V0z\" fill=\"none\"/>\n",
              "    <path d=\"M18.56 5.44l.94 2.06.94-2.06 2.06-.94-2.06-.94-.94-2.06-.94 2.06-2.06.94zm-11 1L8.5 8.5l.94-2.06 2.06-.94-2.06-.94L8.5 2.5l-.94 2.06-2.06.94zm10 10l.94 2.06.94-2.06 2.06-.94-2.06-.94-.94-2.06-.94 2.06-2.06.94z\"/><path d=\"M17.41 7.96l-1.37-1.37c-.4-.4-.92-.59-1.43-.59-.52 0-1.04.2-1.43.59L10.3 9.45l-7.72 7.72c-.78.78-.78 2.05 0 2.83L4 21.41c.39.39.9.59 1.41.59.51 0 1.02-.2 1.41-.59l7.78-7.78 2.81-2.81c.8-.78.8-2.07 0-2.86zM5.41 20L4 18.59l7.72-7.72 1.47 1.35L5.41 20z\"/>\n",
              "  </svg>\n",
              "      </button>\n",
              "      \n",
              "  <style>\n",
              "    .colab-df-container {\n",
              "      display:flex;\n",
              "      flex-wrap:wrap;\n",
              "      gap: 12px;\n",
              "    }\n",
              "\n",
              "    .colab-df-convert {\n",
              "      background-color: #E8F0FE;\n",
              "      border: none;\n",
              "      border-radius: 50%;\n",
              "      cursor: pointer;\n",
              "      display: none;\n",
              "      fill: #1967D2;\n",
              "      height: 32px;\n",
              "      padding: 0 0 0 0;\n",
              "      width: 32px;\n",
              "    }\n",
              "\n",
              "    .colab-df-convert:hover {\n",
              "      background-color: #E2EBFA;\n",
              "      box-shadow: 0px 1px 2px rgba(60, 64, 67, 0.3), 0px 1px 3px 1px rgba(60, 64, 67, 0.15);\n",
              "      fill: #174EA6;\n",
              "    }\n",
              "\n",
              "    [theme=dark] .colab-df-convert {\n",
              "      background-color: #3B4455;\n",
              "      fill: #D2E3FC;\n",
              "    }\n",
              "\n",
              "    [theme=dark] .colab-df-convert:hover {\n",
              "      background-color: #434B5C;\n",
              "      box-shadow: 0px 1px 3px 1px rgba(0, 0, 0, 0.15);\n",
              "      filter: drop-shadow(0px 1px 2px rgba(0, 0, 0, 0.3));\n",
              "      fill: #FFFFFF;\n",
              "    }\n",
              "  </style>\n",
              "\n",
              "      <script>\n",
              "        const buttonEl =\n",
              "          document.querySelector('#df-fb6e1829-346d-4e43-8f56-1e5504e19099 button.colab-df-convert');\n",
              "        buttonEl.style.display =\n",
              "          google.colab.kernel.accessAllowed ? 'block' : 'none';\n",
              "\n",
              "        async function convertToInteractive(key) {\n",
              "          const element = document.querySelector('#df-fb6e1829-346d-4e43-8f56-1e5504e19099');\n",
              "          const dataTable =\n",
              "            await google.colab.kernel.invokeFunction('convertToInteractive',\n",
              "                                                     [key], {});\n",
              "          if (!dataTable) return;\n",
              "\n",
              "          const docLinkHtml = 'Like what you see? Visit the ' +\n",
              "            '<a target=\"_blank\" href=https://colab.research.google.com/notebooks/data_table.ipynb>data table notebook</a>'\n",
              "            + ' to learn more about interactive tables.';\n",
              "          element.innerHTML = '';\n",
              "          dataTable['output_type'] = 'display_data';\n",
              "          await google.colab.output.renderOutput(dataTable, element);\n",
              "          const docLink = document.createElement('div');\n",
              "          docLink.innerHTML = docLinkHtml;\n",
              "          element.appendChild(docLink);\n",
              "        }\n",
              "      </script>\n",
              "    </div>\n",
              "  </div>\n",
              "  "
            ],
            "text/plain": [
              "      candidateName                            companyName  \\\n",
              "0   Ruchismita Dash                                Amdocs    \n",
              "1       MANISHA DAS  APOLLO HOSPITALS ENTERPRISES LIMITED    \n",
              "2  C J GEETHA PRIYA                   propertyoneshop.com    \n",
              "3          SRIKANTH                         Axis Bank Ltd    \n",
              "4  Madduri Srinivas                                   CTS    \n",
              "\n",
              "                   designation          experienceMas  \\\n",
              "0           Software Developer   2 Year(s) 1 Month(s)   \n",
              "1  SENIOR EXECUTIVE-OPERATIONS   5 Year(s) 9 Month(s)   \n",
              "2         System Administrator   4 Year(s) 4 Month(s)   \n",
              "3                          NaN  7 Year(s) 11 Month(s)   \n",
              "4           Associate Projects   6 Year(s) 8 Month(s)   \n",
              "\n",
              "        locationCurrentMas          qualificationMas    qualificationMas2  \\\n",
              "0  Hyderabad/ Secunderabad  BE/ B.Tech (Engineering)                  NaN   \n",
              "1  Hyderabad/ Secunderabad                 MBA/ PGDM  B.Pharm. (Pharmacy)   \n",
              "2  Hyderabad/ Secunderabad         B.Com. (Commerce)                  NaN   \n",
              "3  Hyderabad/ Secunderabad                       NaN            MBA/ PGDM   \n",
              "4  Hyderabad/ Secunderabad         B.Com. (Commerce)           MCA/ PGDCA   \n",
              "\n",
              "          salary            Category  \n",
              "0  Rs. 6.71 lacs  HYDERABAD-SALARIED  \n",
              "1   Rs. 5.0 lacs  HYDERABAD-SALARIED  \n",
              "2  Rs. 84.0 lacs  HYDERABAD-SALARIED  \n",
              "3   Rs. 7.0 lacs  HYDERABAD-SALARIED  \n",
              "4  Rs. 8.05 lacs  HYDERABAD-SALARIED  "
            ]
          },
          "execution_count": 4,
          "metadata": {},
          "output_type": "execute_result"
        }
      ],
      "source": [
        "df = pd.read_csv(\"hyderabad-salaried-employees.csv\")\n",
        "df.head()"
      ]
    },
    {
      "cell_type": "code",
      "execution_count": 5,
      "metadata": {
        "colab": {
          "base_uri": "https://localhost:8080/"
        },
        "id": "46GFHz3SB6Vr",
        "outputId": "f06cf11a-dcc1-4643-f58b-59bbeb18fcd6"
      },
      "outputs": [
        {
          "name": "stdout",
          "output_type": "stream",
          "text": [
            "<class 'pandas.core.frame.DataFrame'>\n",
            "RangeIndex: 28847 entries, 0 to 28846\n",
            "Data columns (total 9 columns):\n",
            " #   Column              Non-Null Count  Dtype \n",
            "---  ------              --------------  ----- \n",
            " 0   candidateName       28843 non-null  object\n",
            " 1   companyName         28806 non-null  object\n",
            " 2   designation         24217 non-null  object\n",
            " 3   experienceMas       28847 non-null  object\n",
            " 4   locationCurrentMas  28847 non-null  object\n",
            " 5   qualificationMas    23971 non-null  object\n",
            " 6   qualificationMas2   15449 non-null  object\n",
            " 7   salary              28847 non-null  object\n",
            " 8   Category            28847 non-null  object\n",
            "dtypes: object(9)\n",
            "memory usage: 2.0+ MB\n"
          ]
        }
      ],
      "source": [
        "df.info()"
      ]
    },
    {
      "cell_type": "code",
      "execution_count": 6,
      "metadata": {
        "colab": {
          "base_uri": "https://localhost:8080/",
          "height": 175
        },
        "id": "YxAG3kcfB6k2",
        "outputId": "161a1b22-693c-4f2c-8c97-1ca920bcb482"
      },
      "outputs": [
        {
          "data": {
            "text/html": [
              "\n",
              "  <div id=\"df-029a0df0-3733-460e-850d-e95540e8086b\">\n",
              "    <div class=\"colab-df-container\">\n",
              "      <div>\n",
              "<style scoped>\n",
              "    .dataframe tbody tr th:only-of-type {\n",
              "        vertical-align: middle;\n",
              "    }\n",
              "\n",
              "    .dataframe tbody tr th {\n",
              "        vertical-align: top;\n",
              "    }\n",
              "\n",
              "    .dataframe thead th {\n",
              "        text-align: right;\n",
              "    }\n",
              "</style>\n",
              "<table border=\"1\" class=\"dataframe\">\n",
              "  <thead>\n",
              "    <tr style=\"text-align: right;\">\n",
              "      <th></th>\n",
              "      <th>candidateName</th>\n",
              "      <th>companyName</th>\n",
              "      <th>designation</th>\n",
              "      <th>experienceMas</th>\n",
              "      <th>locationCurrentMas</th>\n",
              "      <th>qualificationMas</th>\n",
              "      <th>qualificationMas2</th>\n",
              "      <th>salary</th>\n",
              "      <th>Category</th>\n",
              "    </tr>\n",
              "  </thead>\n",
              "  <tbody>\n",
              "    <tr>\n",
              "      <th>count</th>\n",
              "      <td>28843</td>\n",
              "      <td>28806</td>\n",
              "      <td>24217</td>\n",
              "      <td>28847</td>\n",
              "      <td>28847</td>\n",
              "      <td>23971</td>\n",
              "      <td>15449</td>\n",
              "      <td>28847</td>\n",
              "      <td>28847</td>\n",
              "    </tr>\n",
              "    <tr>\n",
              "      <th>unique</th>\n",
              "      <td>27288</td>\n",
              "      <td>15153</td>\n",
              "      <td>12636</td>\n",
              "      <td>492</td>\n",
              "      <td>3</td>\n",
              "      <td>51</td>\n",
              "      <td>48</td>\n",
              "      <td>1560</td>\n",
              "      <td>1</td>\n",
              "    </tr>\n",
              "    <tr>\n",
              "      <th>top</th>\n",
              "      <td>- -</td>\n",
              "      <td>Currently Unemployed</td>\n",
              "      <td>Currently Unemployed</td>\n",
              "      <td>10 Year(s)</td>\n",
              "      <td>Hyderabad/ Secunderabad</td>\n",
              "      <td>BE/ B.Tech (Engineering)</td>\n",
              "      <td>MBA/ PGDM</td>\n",
              "      <td>Rs. 6.0 lacs</td>\n",
              "      <td>HYDERABAD-SALARIED</td>\n",
              "    </tr>\n",
              "    <tr>\n",
              "      <th>freq</th>\n",
              "      <td>27</td>\n",
              "      <td>804</td>\n",
              "      <td>778</td>\n",
              "      <td>966</td>\n",
              "      <td>28841</td>\n",
              "      <td>8922</td>\n",
              "      <td>5448</td>\n",
              "      <td>1695</td>\n",
              "      <td>28847</td>\n",
              "    </tr>\n",
              "  </tbody>\n",
              "</table>\n",
              "</div>\n",
              "      <button class=\"colab-df-convert\" onclick=\"convertToInteractive('df-029a0df0-3733-460e-850d-e95540e8086b')\"\n",
              "              title=\"Convert this dataframe to an interactive table.\"\n",
              "              style=\"display:none;\">\n",
              "        \n",
              "  <svg xmlns=\"http://www.w3.org/2000/svg\" height=\"24px\"viewBox=\"0 0 24 24\"\n",
              "       width=\"24px\">\n",
              "    <path d=\"M0 0h24v24H0V0z\" fill=\"none\"/>\n",
              "    <path d=\"M18.56 5.44l.94 2.06.94-2.06 2.06-.94-2.06-.94-.94-2.06-.94 2.06-2.06.94zm-11 1L8.5 8.5l.94-2.06 2.06-.94-2.06-.94L8.5 2.5l-.94 2.06-2.06.94zm10 10l.94 2.06.94-2.06 2.06-.94-2.06-.94-.94-2.06-.94 2.06-2.06.94z\"/><path d=\"M17.41 7.96l-1.37-1.37c-.4-.4-.92-.59-1.43-.59-.52 0-1.04.2-1.43.59L10.3 9.45l-7.72 7.72c-.78.78-.78 2.05 0 2.83L4 21.41c.39.39.9.59 1.41.59.51 0 1.02-.2 1.41-.59l7.78-7.78 2.81-2.81c.8-.78.8-2.07 0-2.86zM5.41 20L4 18.59l7.72-7.72 1.47 1.35L5.41 20z\"/>\n",
              "  </svg>\n",
              "      </button>\n",
              "      \n",
              "  <style>\n",
              "    .colab-df-container {\n",
              "      display:flex;\n",
              "      flex-wrap:wrap;\n",
              "      gap: 12px;\n",
              "    }\n",
              "\n",
              "    .colab-df-convert {\n",
              "      background-color: #E8F0FE;\n",
              "      border: none;\n",
              "      border-radius: 50%;\n",
              "      cursor: pointer;\n",
              "      display: none;\n",
              "      fill: #1967D2;\n",
              "      height: 32px;\n",
              "      padding: 0 0 0 0;\n",
              "      width: 32px;\n",
              "    }\n",
              "\n",
              "    .colab-df-convert:hover {\n",
              "      background-color: #E2EBFA;\n",
              "      box-shadow: 0px 1px 2px rgba(60, 64, 67, 0.3), 0px 1px 3px 1px rgba(60, 64, 67, 0.15);\n",
              "      fill: #174EA6;\n",
              "    }\n",
              "\n",
              "    [theme=dark] .colab-df-convert {\n",
              "      background-color: #3B4455;\n",
              "      fill: #D2E3FC;\n",
              "    }\n",
              "\n",
              "    [theme=dark] .colab-df-convert:hover {\n",
              "      background-color: #434B5C;\n",
              "      box-shadow: 0px 1px 3px 1px rgba(0, 0, 0, 0.15);\n",
              "      filter: drop-shadow(0px 1px 2px rgba(0, 0, 0, 0.3));\n",
              "      fill: #FFFFFF;\n",
              "    }\n",
              "  </style>\n",
              "\n",
              "      <script>\n",
              "        const buttonEl =\n",
              "          document.querySelector('#df-029a0df0-3733-460e-850d-e95540e8086b button.colab-df-convert');\n",
              "        buttonEl.style.display =\n",
              "          google.colab.kernel.accessAllowed ? 'block' : 'none';\n",
              "\n",
              "        async function convertToInteractive(key) {\n",
              "          const element = document.querySelector('#df-029a0df0-3733-460e-850d-e95540e8086b');\n",
              "          const dataTable =\n",
              "            await google.colab.kernel.invokeFunction('convertToInteractive',\n",
              "                                                     [key], {});\n",
              "          if (!dataTable) return;\n",
              "\n",
              "          const docLinkHtml = 'Like what you see? Visit the ' +\n",
              "            '<a target=\"_blank\" href=https://colab.research.google.com/notebooks/data_table.ipynb>data table notebook</a>'\n",
              "            + ' to learn more about interactive tables.';\n",
              "          element.innerHTML = '';\n",
              "          dataTable['output_type'] = 'display_data';\n",
              "          await google.colab.output.renderOutput(dataTable, element);\n",
              "          const docLink = document.createElement('div');\n",
              "          docLink.innerHTML = docLinkHtml;\n",
              "          element.appendChild(docLink);\n",
              "        }\n",
              "      </script>\n",
              "    </div>\n",
              "  </div>\n",
              "  "
            ],
            "text/plain": [
              "       candidateName            companyName           designation  \\\n",
              "count          28843                  28806                 24217   \n",
              "unique         27288                  15153                 12636   \n",
              "top              - -  Currently Unemployed   Currently Unemployed   \n",
              "freq              27                    804                   778   \n",
              "\n",
              "       experienceMas       locationCurrentMas          qualificationMas  \\\n",
              "count          28847                    28847                     23971   \n",
              "unique           492                        3                        51   \n",
              "top      10 Year(s)   Hyderabad/ Secunderabad  BE/ B.Tech (Engineering)   \n",
              "freq             966                    28841                      8922   \n",
              "\n",
              "       qualificationMas2        salary            Category  \n",
              "count              15449         28847               28847  \n",
              "unique                48          1560                   1  \n",
              "top            MBA/ PGDM  Rs. 6.0 lacs  HYDERABAD-SALARIED  \n",
              "freq                5448          1695               28847  "
            ]
          },
          "execution_count": 6,
          "metadata": {},
          "output_type": "execute_result"
        }
      ],
      "source": [
        "df.describe()"
      ]
    },
    {
      "cell_type": "markdown",
      "metadata": {
        "id": "7M-vG-mgQpP6"
      },
      "source": [
        "# Data Pre-processing and Feature selection"
      ]
    },
    {
      "cell_type": "markdown",
      "metadata": {
        "id": "E-FdY7RPYkiT"
      },
      "source": [
        "**Checking Missing Values in each Column**"
      ]
    },
    {
      "cell_type": "code",
      "execution_count": 7,
      "metadata": {
        "colab": {
          "base_uri": "https://localhost:8080/"
        },
        "id": "ESs9u9omCSDG",
        "outputId": "ada8d181-7dff-49ed-c5cf-fd5c4c4a9ec9"
      },
      "outputs": [
        {
          "data": {
            "text/plain": [
              "candidateName             4\n",
              "companyName              41\n",
              "designation            4630\n",
              "experienceMas             0\n",
              "locationCurrentMas        0\n",
              "qualificationMas       4876\n",
              "qualificationMas2     13398\n",
              "salary                    0\n",
              "Category                  0\n",
              "dtype: int64"
            ]
          },
          "execution_count": 7,
          "metadata": {},
          "output_type": "execute_result"
        }
      ],
      "source": [
        "df.isna().sum()"
      ]
    },
    {
      "cell_type": "markdown",
      "metadata": {
        "id": "Xyb4rJvBZfV2"
      },
      "source": [
        "**Visualizing Missing Pattern in Dataset**"
      ]
    },
    {
      "cell_type": "code",
      "execution_count": 8,
      "metadata": {
        "colab": {
          "base_uri": "https://localhost:8080/",
          "height": 356
        },
        "id": "jwaLhiZRZhc1",
        "outputId": "9ef1a045-b8f2-482e-8ff9-ea2c7b0315f9"
      },
      "outputs": [
        {
          "data": {
            "text/plain": [
              "<matplotlib.axes._subplots.AxesSubplot at 0x7f0d866ec0d0>"
            ]
          },
          "execution_count": 8,
          "metadata": {},
          "output_type": "execute_result"
        },
        {
          "data": {
            "image/png": "[encoded data removed]",
            "text/plain": [
              "<Figure size 720x288 with 2 Axes>"
            ]
          },
          "metadata": {
            "needs_background": "light"
          },
          "output_type": "display_data"
        }
      ],
      "source": [
        "msno.matrix(df, figsize=(10,4), fontsize=10)"
      ]
    },
    {
      "cell_type": "markdown",
      "metadata": {
        "id": "nHJpaXkXZk9r"
      },
      "source": [
        "**Droping Rows from Some Columns containing less number of NaN Values and Replacing \"NaN\" Values in the columns (where NaN values are high in number) with \"Missing\"(str)**"
      ]
    },
    {
      "cell_type": "markdown",
      "metadata": {
        "id": "DwTJok8hdmyp"
      },
      "source": [
        "\n",
        "\n",
        "*   Here we can see that the columns candidateName, companyName, designation has less number of NaN values. So, we drop the rows from candidateName, companyName, designation columns\n",
        "*   On the other hand, the columns 'qualificationMas' and 'qualificationMas2' are related to each other and have more number pf NaN values. So, we replace NaN values in 'qualificationMas' and 'qualificationMas2' with \"Missing\"\n",
        "\n"
      ]
    },
    {
      "cell_type": "code",
      "execution_count": 9,
      "metadata": {
        "id": "CEOkr-GRZsis"
      },
      "outputs": [],
      "source": [
        "#Droping Rows from 'companyName' and 'designation' containing NaN values\n",
        "df.dropna(axis=0, inplace=True, subset=['companyName', 'designation','candidateName','Category','locationCurrentMas'])\n",
        "\n",
        "final = df.copy(deep=True) # Copying dataframe for final split in excel files"
      ]
    },
    {
      "cell_type": "code",
      "execution_count": 10,
      "metadata": {
        "id": "mkp76dvtZzW4"
      },
      "outputs": [],
      "source": [
        "#Replacing \"NaN\" Values in 'qualificationMas' and 'qualificationMas2' with \"Missing\" (str)\n",
        "df['qualificationMas'].fillna(value='Missing', inplace=True)\n",
        "df['qualificationMas2'].fillna(value='Missing', inplace=True)\n"
      ]
    },
    {
      "cell_type": "markdown",
      "metadata": {
        "id": "dNZSwBd4aY_4"
      },
      "source": [
        "**Now visualize missing pattern in the dataset to check whether we are correct or not**"
      ]
    },
    {
      "cell_type": "code",
      "execution_count": 11,
      "metadata": {
        "colab": {
          "base_uri": "https://localhost:8080/"
        },
        "id": "0TLc5i7ZOaAH",
        "outputId": "adfaefb9-44ed-48a5-f40b-c06d09e02ca7"
      },
      "outputs": [
        {
          "data": {
            "text/plain": [
              "candidateName         0\n",
              "companyName           0\n",
              "designation           0\n",
              "experienceMas         0\n",
              "locationCurrentMas    0\n",
              "qualificationMas      0\n",
              "qualificationMas2     0\n",
              "salary                0\n",
              "Category              0\n",
              "dtype: int64"
            ]
          },
          "execution_count": 11,
          "metadata": {},
          "output_type": "execute_result"
        }
      ],
      "source": [
        "df.isna().sum()"
      ]
    },
    {
      "cell_type": "code",
      "execution_count": 12,
      "metadata": {
        "colab": {
          "base_uri": "https://localhost:8080/",
          "height": 356
        },
        "id": "7cORjhwvajKW",
        "outputId": "08970006-8ca9-46b6-c47c-357e4bf269ed"
      },
      "outputs": [
        {
          "data": {
            "text/plain": [
              "<matplotlib.axes._subplots.AxesSubplot at 0x7f0d83d7ec70>"
            ]
          },
          "execution_count": 12,
          "metadata": {},
          "output_type": "execute_result"
        },
        {
          "data": {
            "image/png": "[encoded data removed]",
            "text/plain": [
              "<Figure size 720x288 with 2 Axes>"
            ]
          },
          "metadata": {
            "needs_background": "light"
          },
          "output_type": "display_data"
        }
      ],
      "source": [
        "msno.matrix(df, figsize=(10,4), fontsize=10)"
      ]
    },
    {
      "cell_type": "markdown",
      "metadata": {
        "id": "p5eNy3N8Y0wg"
      },
      "source": [
        "**Checking Unique Values in each Column**"
      ]
    },
    {
      "cell_type": "code",
      "execution_count": 13,
      "metadata": {
        "colab": {
          "base_uri": "https://localhost:8080/"
        },
        "id": "3lRBNvhoYpuh",
        "outputId": "b4f876b4-298f-435f-87c6-867e913f89dc"
      },
      "outputs": [
        {
          "data": {
            "text/plain": [
              "candidateName         23194\n",
              "companyName           13066\n",
              "designation           12634\n",
              "experienceMas           480\n",
              "locationCurrentMas        3\n",
              "qualificationMas         51\n",
              "qualificationMas2        49\n",
              "salary                 1433\n",
              "Category                  1\n",
              "dtype: int64"
            ]
          },
          "execution_count": 13,
          "metadata": {},
          "output_type": "execute_result"
        }
      ],
      "source": [
        "df.nunique()"
      ]
    },
    {
      "cell_type": "markdown",
      "metadata": {
        "id": "WQfdILbpasH_"
      },
      "source": [
        "**Droping Irrelevant Columns**"
      ]
    },
    {
      "cell_type": "markdown",
      "metadata": {
        "id": "6FJyD0L3b_51"
      },
      "source": [
        "\n",
        "*   Here we can see that candidate name is totally unique... So it can't be used in distinguishing the clusters.\n",
        "*   on the other hand, category is same for all data points, so it is also not used in distinguishing the clusters.\n",
        "*   locationCurrentMas has only 3 unique values. So lets us check what is frequency of each unique value\n"
      ]
    },
    {
      "cell_type": "code",
      "execution_count": 14,
      "metadata": {
        "colab": {
          "base_uri": "https://localhost:8080/"
        },
        "id": "GseeqWPhbwga",
        "outputId": "6db2317c-0e12-4ec0-9a28-d198cbfa8825"
      },
      "outputs": [
        {
          "data": {
            "text/plain": [
              "Hyderabad/ Secunderabad    24207\n",
              "Hyderabad                      3\n",
              "Hyderabad                      3\n",
              "Name: locationCurrentMas, dtype: int64"
            ]
          },
          "execution_count": 14,
          "metadata": {},
          "output_type": "execute_result"
        }
      ],
      "source": [
        "#Checking Values in 'locationCurrentMas'\n",
        "df.locationCurrentMas.value_counts()"
      ]
    },
    {
      "cell_type": "markdown",
      "metadata": {
        "id": "mpXEhvK-cchk"
      },
      "source": [
        "\n",
        "\n",
        "*   As the frequency of Hyderabad/ Secunderabad value is 28841,Hyderabad is 3, This column is also not used for distinguishing the clusters\n",
        "\n"
      ]
    },
    {
      "cell_type": "code",
      "execution_count": 15,
      "metadata": {
        "id": "ZXa7kf75bsP1"
      },
      "outputs": [],
      "source": [
        "# Droping Unwanted/Notrelevent Columns from dataFrame\n",
        "df.drop(columns=['candidateName','Category','locationCurrentMas'], inplace=True)"
      ]
    },
    {
      "cell_type": "markdown",
      "metadata": {
        "id": "uQRyKlySeoAm"
      },
      "source": [
        "# Encoding--- Formatting Columns of Data in Usable Form"
      ]
    },
    {
      "cell_type": "code",
      "execution_count": 16,
      "metadata": {
        "colab": {
          "base_uri": "https://localhost:8080/",
          "height": 206
        },
        "id": "XjN7zrgMbsgE",
        "outputId": "b05b7c9f-43f6-483b-ac3b-172ec405f89f"
      },
      "outputs": [
        {
          "data": {
            "text/html": [
              "\n",
              "  <div id=\"df-4419c655-d7c1-4639-805d-4739408e8e51\">\n",
              "    <div class=\"colab-df-container\">\n",
              "      <div>\n",
              "<style scoped>\n",
              "    .dataframe tbody tr th:only-of-type {\n",
              "        vertical-align: middle;\n",
              "    }\n",
              "\n",
              "    .dataframe tbody tr th {\n",
              "        vertical-align: top;\n",
              "    }\n",
              "\n",
              "    .dataframe thead th {\n",
              "        text-align: right;\n",
              "    }\n",
              "</style>\n",
              "<table border=\"1\" class=\"dataframe\">\n",
              "  <thead>\n",
              "    <tr style=\"text-align: right;\">\n",
              "      <th></th>\n",
              "      <th>companyName</th>\n",
              "      <th>designation</th>\n",
              "      <th>experienceMas</th>\n",
              "      <th>qualificationMas</th>\n",
              "      <th>qualificationMas2</th>\n",
              "      <th>salary</th>\n",
              "    </tr>\n",
              "  </thead>\n",
              "  <tbody>\n",
              "    <tr>\n",
              "      <th>0</th>\n",
              "      <td>777</td>\n",
              "      <td>9365</td>\n",
              "      <td>25.0</td>\n",
              "      <td>15</td>\n",
              "      <td>43</td>\n",
              "      <td>6.71</td>\n",
              "    </tr>\n",
              "    <tr>\n",
              "      <th>1</th>\n",
              "      <td>265</td>\n",
              "      <td>7708</td>\n",
              "      <td>69.0</td>\n",
              "      <td>38</td>\n",
              "      <td>4</td>\n",
              "      <td>5.00</td>\n",
              "    </tr>\n",
              "    <tr>\n",
              "      <th>2</th>\n",
              "      <td>12683</td>\n",
              "      <td>10809</td>\n",
              "      <td>52.0</td>\n",
              "      <td>2</td>\n",
              "      <td>43</td>\n",
              "      <td>84.00</td>\n",
              "    </tr>\n",
              "    <tr>\n",
              "      <th>4</th>\n",
              "      <td>1928</td>\n",
              "      <td>1430</td>\n",
              "      <td>80.0</td>\n",
              "      <td>2</td>\n",
              "      <td>33</td>\n",
              "      <td>8.05</td>\n",
              "    </tr>\n",
              "    <tr>\n",
              "      <th>5</th>\n",
              "      <td>7180</td>\n",
              "      <td>10090</td>\n",
              "      <td>242.0</td>\n",
              "      <td>45</td>\n",
              "      <td>48</td>\n",
              "      <td>16.00</td>\n",
              "    </tr>\n",
              "  </tbody>\n",
              "</table>\n",
              "</div>\n",
              "      <button class=\"colab-df-convert\" onclick=\"convertToInteractive('df-4419c655-d7c1-4639-805d-4739408e8e51')\"\n",
              "              title=\"Convert this dataframe to an interactive table.\"\n",
              "              style=\"display:none;\">\n",
              "        \n",
              "  <svg xmlns=\"http://www.w3.org/2000/svg\" height=\"24px\"viewBox=\"0 0 24 24\"\n",
              "       width=\"24px\">\n",
              "    <path d=\"M0 0h24v24H0V0z\" fill=\"none\"/>\n",
              "    <path d=\"M18.56 5.44l.94 2.06.94-2.06 2.06-.94-2.06-.94-.94-2.06-.94 2.06-2.06.94zm-11 1L8.5 8.5l.94-2.06 2.06-.94-2.06-.94L8.5 2.5l-.94 2.06-2.06.94zm10 10l.94 2.06.94-2.06 2.06-.94-2.06-.94-.94-2.06-.94 2.06-2.06.94z\"/><path d=\"M17.41 7.96l-1.37-1.37c-.4-.4-.92-.59-1.43-.59-.52 0-1.04.2-1.43.59L10.3 9.45l-7.72 7.72c-.78.78-.78 2.05 0 2.83L4 21.41c.39.39.9.59 1.41.59.51 0 1.02-.2 1.41-.59l7.78-7.78 2.81-2.81c.8-.78.8-2.07 0-2.86zM5.41 20L4 18.59l7.72-7.72 1.47 1.35L5.41 20z\"/>\n",
              "  </svg>\n",
              "      </button>\n",
              "      \n",
              "  <style>\n",
              "    .colab-df-container {\n",
              "      display:flex;\n",
              "      flex-wrap:wrap;\n",
              "      gap: 12px;\n",
              "    }\n",
              "\n",
              "    .colab-df-convert {\n",
              "      background-color: #E8F0FE;\n",
              "      border: none;\n",
              "      border-radius: 50%;\n",
              "      cursor: pointer;\n",
              "      display: none;\n",
              "      fill: #1967D2;\n",
              "      height: 32px;\n",
              "      padding: 0 0 0 0;\n",
              "      width: 32px;\n",
              "    }\n",
              "\n",
              "    .colab-df-convert:hover {\n",
              "      background-color: #E2EBFA;\n",
              "      box-shadow: 0px 1px 2px rgba(60, 64, 67, 0.3), 0px 1px 3px 1px rgba(60, 64, 67, 0.15);\n",
              "      fill: #174EA6;\n",
              "    }\n",
              "\n",
              "    [theme=dark] .colab-df-convert {\n",
              "      background-color: #3B4455;\n",
              "      fill: #D2E3FC;\n",
              "    }\n",
              "\n",
              "    [theme=dark] .colab-df-convert:hover {\n",
              "      background-color: #434B5C;\n",
              "      box-shadow: 0px 1px 3px 1px rgba(0, 0, 0, 0.15);\n",
              "      filter: drop-shadow(0px 1px 2px rgba(0, 0, 0, 0.3));\n",
              "      fill: #FFFFFF;\n",
              "    }\n",
              "  </style>\n",
              "\n",
              "      <script>\n",
              "        const buttonEl =\n",
              "          document.querySelector('#df-4419c655-d7c1-4639-805d-4739408e8e51 button.colab-df-convert');\n",
              "        buttonEl.style.display =\n",
              "          google.colab.kernel.accessAllowed ? 'block' : 'none';\n",
              "\n",
              "        async function convertToInteractive(key) {\n",
              "          const element = document.querySelector('#df-4419c655-d7c1-4639-805d-4739408e8e51');\n",
              "          const dataTable =\n",
              "            await google.colab.kernel.invokeFunction('convertToInteractive',\n",
              "                                                     [key], {});\n",
              "          if (!dataTable) return;\n",
              "\n",
              "          const docLinkHtml = 'Like what you see? Visit the ' +\n",
              "            '<a target=\"_blank\" href=https://colab.research.google.com/notebooks/data_table.ipynb>data table notebook</a>'\n",
              "            + ' to learn more about interactive tables.';\n",
              "          element.innerHTML = '';\n",
              "          dataTable['output_type'] = 'display_data';\n",
              "          await google.colab.output.renderOutput(dataTable, element);\n",
              "          const docLink = document.createElement('div');\n",
              "          docLink.innerHTML = docLinkHtml;\n",
              "          element.appendChild(docLink);\n",
              "        }\n",
              "      </script>\n",
              "    </div>\n",
              "  </div>\n",
              "  "
            ],
            "text/plain": [
              "   companyName  designation  experienceMas  qualificationMas  \\\n",
              "0          777         9365           25.0                15   \n",
              "1          265         7708           69.0                38   \n",
              "2        12683        10809           52.0                 2   \n",
              "4         1928         1430           80.0                 2   \n",
              "5         7180        10090          242.0                45   \n",
              "\n",
              "   qualificationMas2  salary  \n",
              "0                 43    6.71  \n",
              "1                  4    5.00  \n",
              "2                 43   84.00  \n",
              "4                 33    8.05  \n",
              "5                 48   16.00  "
            ]
          },
          "execution_count": 16,
          "metadata": {},
          "output_type": "execute_result"
        }
      ],
      "source": [
        "# Convert 'Rs. X Lakhs' [Object] in 'X'[float]\n",
        "df['salary'] = df['salary'].astype('str')\n",
        "df[df.columns[5]] = df[df.columns[5]].apply(lambda x: x.replace('Rs. ','')).apply(lambda x: x.replace(' lacs','')).astype(np.float64)\n",
        "\n",
        "# Convert 'A Year(s) B Month(s)' [object] in Month(s) [float]\n",
        "def process_exp(dataframe,colid):\n",
        "    df['experienceMas'] = df['experienceMas'].astype('str') # from object type to str type [to use split function]\n",
        "    df['experienceMas'].replace('Fresher','0 Year(s) 0 Month(s)', inplace=True) #changing data in single format ['Fresher' = '0 Year(s) 0 Month(s)']\n",
        "    for rowid in range(dataframe.shape[0]):\n",
        "        element=dataframe.iloc[rowid,colid].split(' ') # Splitting str 'A Year(s) B Month(s)' from each row using space into ['A','Year(s)','B','Month(s)']\n",
        "        if len(element)==4:\n",
        "            year,month=(element[0],element[2]) # Getting A and B as no. of years and months\n",
        "        else:\n",
        "            year,month=(element[0],0) #if there is no month value then only take years\n",
        "        dataframe.iloc[rowid,colid]=(12*float(year))+float(month) # multiply years with 12 and add months [to get no. of months of experience]\n",
        "    dataframe.iloc[:,2]=pd.to_numeric(dataframe.experienceMas) # Convert str to float type\n",
        "    return dataframe\n",
        "\n",
        "df=process_exp(dataframe=df, colid=2)\n",
        "\n",
        "#LabelEncoding\n",
        "le = LabelEncoder()\n",
        "for col in df.select_dtypes(include=['object']).columns:\n",
        "    df[col] = le.fit_transform(df[col])\n",
        "df.head()"
      ]
    },
    {
      "cell_type": "markdown",
      "metadata": {
        "id": "HhPGC60-2vFX"
      },
      "source": [
        "\n",
        "\n",
        "*   Here, we converted the object datatype to float datatype and years and months in experience column to months \n",
        "\n"
      ]
    },
    {
      "cell_type": "markdown",
      "metadata": {
        "id": "bEz4yJdte8as"
      },
      "source": [
        "# Normalization "
      ]
    },
    {
      "cell_type": "markdown",
      "metadata": {
        "id": "j4kDolIrwY5Y"
      },
      "source": [
        "\n",
        "\n",
        "*   Let us see how our data is\n",
        "\n",
        "\n"
      ]
    },
    {
      "cell_type": "code",
      "execution_count": 17,
      "metadata": {
        "colab": {
          "base_uri": "https://localhost:8080/",
          "height": 265
        },
        "id": "dDIp0skUwile",
        "outputId": "26d6848c-62a3-4620-f54f-337f582c0380"
      },
      "outputs": [
        {
          "data": {
            "image/png": "[encoded data removed]",
            "text/plain": [
              "<Figure size 432x288 with 1 Axes>"
            ]
          },
          "metadata": {
            "needs_background": "light"
          },
          "output_type": "display_data"
        }
      ],
      "source": [
        "X = df[[\"companyName\",\t\"designation\"\t,\"experienceMas\",\"qualificationMas\",\t\"qualificationMas2\",\"salary\"]]\n",
        "ax =plt.plot(X.index,X)\n",
        "plt.xlim(0,15)\n",
        "plt.legend(ax[:],[\"companyName\",\t\"designation\"\t,\"experienceMas\",\"qualificationMas\",\t\"qualificationMas2\",\"salary\"]);\n"
      ]
    },
    {
      "cell_type": "markdown",
      "metadata": {
        "id": "PV_al3nG6FYx"
      },
      "source": [
        "\n",
        "\n",
        "*   From the figure, we can observe that the attributes \"companyName\" and \"designation\" are at same scale where as the attributes \"experienceMas\",\"qualificationMas\",\"qualificationMas2\",\"salary\" are at same scale. The difference between these scales cannot give the good results. So we need to normalize the data inorder to bring all attributes to same scale.\n",
        "\n"
      ]
    },
    {
      "cell_type": "code",
      "execution_count": 18,
      "metadata": {
        "colab": {
          "base_uri": "https://localhost:8080/",
          "height": 206
        },
        "id": "Fc2SZGVze_G0",
        "outputId": "96af2449-de35-4998-f10a-fbd502e5d352"
      },
      "outputs": [
        {
          "data": {
            "text/html": [
              "\n",
              "  <div id=\"df-0ad12d06-0039-4577-9407-9fd6d32efd1d\">\n",
              "    <div class=\"colab-df-container\">\n",
              "      <div>\n",
              "<style scoped>\n",
              "    .dataframe tbody tr th:only-of-type {\n",
              "        vertical-align: middle;\n",
              "    }\n",
              "\n",
              "    .dataframe tbody tr th {\n",
              "        vertical-align: top;\n",
              "    }\n",
              "\n",
              "    .dataframe thead th {\n",
              "        text-align: right;\n",
              "    }\n",
              "</style>\n",
              "<table border=\"1\" class=\"dataframe\">\n",
              "  <thead>\n",
              "    <tr style=\"text-align: right;\">\n",
              "      <th></th>\n",
              "      <th>companyName</th>\n",
              "      <th>designation</th>\n",
              "      <th>experienceMas</th>\n",
              "      <th>qualificationMas</th>\n",
              "      <th>qualificationMas2</th>\n",
              "      <th>salary</th>\n",
              "    </tr>\n",
              "  </thead>\n",
              "  <tbody>\n",
              "    <tr>\n",
              "      <th>0</th>\n",
              "      <td>0.000695</td>\n",
              "      <td>0.008324</td>\n",
              "      <td>0.001108</td>\n",
              "      <td>0.004041</td>\n",
              "      <td>0.007620</td>\n",
              "      <td>0.001818</td>\n",
              "    </tr>\n",
              "    <tr>\n",
              "      <th>1</th>\n",
              "      <td>0.000237</td>\n",
              "      <td>0.006851</td>\n",
              "      <td>0.003058</td>\n",
              "      <td>0.010237</td>\n",
              "      <td>0.000709</td>\n",
              "      <td>0.001355</td>\n",
              "    </tr>\n",
              "    <tr>\n",
              "      <th>2</th>\n",
              "      <td>0.011345</td>\n",
              "      <td>0.009607</td>\n",
              "      <td>0.002305</td>\n",
              "      <td>0.000539</td>\n",
              "      <td>0.007620</td>\n",
              "      <td>0.022758</td>\n",
              "    </tr>\n",
              "    <tr>\n",
              "      <th>3</th>\n",
              "      <td>0.001725</td>\n",
              "      <td>0.001271</td>\n",
              "      <td>0.003546</td>\n",
              "      <td>0.000539</td>\n",
              "      <td>0.005848</td>\n",
              "      <td>0.002181</td>\n",
              "    </tr>\n",
              "    <tr>\n",
              "      <th>4</th>\n",
              "      <td>0.006422</td>\n",
              "      <td>0.008968</td>\n",
              "      <td>0.010726</td>\n",
              "      <td>0.012123</td>\n",
              "      <td>0.008506</td>\n",
              "      <td>0.004335</td>\n",
              "    </tr>\n",
              "  </tbody>\n",
              "</table>\n",
              "</div>\n",
              "      <button class=\"colab-df-convert\" onclick=\"convertToInteractive('df-0ad12d06-0039-4577-9407-9fd6d32efd1d')\"\n",
              "              title=\"Convert this dataframe to an interactive table.\"\n",
              "              style=\"display:none;\">\n",
              "        \n",
              "  <svg xmlns=\"http://www.w3.org/2000/svg\" height=\"24px\"viewBox=\"0 0 24 24\"\n",
              "       width=\"24px\">\n",
              "    <path d=\"M0 0h24v24H0V0z\" fill=\"none\"/>\n",
              "    <path d=\"M18.56 5.44l.94 2.06.94-2.06 2.06-.94-2.06-.94-.94-2.06-.94 2.06-2.06.94zm-11 1L8.5 8.5l.94-2.06 2.06-.94-2.06-.94L8.5 2.5l-.94 2.06-2.06.94zm10 10l.94 2.06.94-2.06 2.06-.94-2.06-.94-.94-2.06-.94 2.06-2.06.94z\"/><path d=\"M17.41 7.96l-1.37-1.37c-.4-.4-.92-.59-1.43-.59-.52 0-1.04.2-1.43.59L10.3 9.45l-7.72 7.72c-.78.78-.78 2.05 0 2.83L4 21.41c.39.39.9.59 1.41.59.51 0 1.02-.2 1.41-.59l7.78-7.78 2.81-2.81c.8-.78.8-2.07 0-2.86zM5.41 20L4 18.59l7.72-7.72 1.47 1.35L5.41 20z\"/>\n",
              "  </svg>\n",
              "      </button>\n",
              "      \n",
              "  <style>\n",
              "    .colab-df-container {\n",
              "      display:flex;\n",
              "      flex-wrap:wrap;\n",
              "      gap: 12px;\n",
              "    }\n",
              "\n",
              "    .colab-df-convert {\n",
              "      background-color: #E8F0FE;\n",
              "      border: none;\n",
              "      border-radius: 50%;\n",
              "      cursor: pointer;\n",
              "      display: none;\n",
              "      fill: #1967D2;\n",
              "      height: 32px;\n",
              "      padding: 0 0 0 0;\n",
              "      width: 32px;\n",
              "    }\n",
              "\n",
              "    .colab-df-convert:hover {\n",
              "      background-color: #E2EBFA;\n",
              "      box-shadow: 0px 1px 2px rgba(60, 64, 67, 0.3), 0px 1px 3px 1px rgba(60, 64, 67, 0.15);\n",
              "      fill: #174EA6;\n",
              "    }\n",
              "\n",
              "    [theme=dark] .colab-df-convert {\n",
              "      background-color: #3B4455;\n",
              "      fill: #D2E3FC;\n",
              "    }\n",
              "\n",
              "    [theme=dark] .colab-df-convert:hover {\n",
              "      background-color: #434B5C;\n",
              "      box-shadow: 0px 1px 3px 1px rgba(0, 0, 0, 0.15);\n",
              "      filter: drop-shadow(0px 1px 2px rgba(0, 0, 0, 0.3));\n",
              "      fill: #FFFFFF;\n",
              "    }\n",
              "  </style>\n",
              "\n",
              "      <script>\n",
              "        const buttonEl =\n",
              "          document.querySelector('#df-0ad12d06-0039-4577-9407-9fd6d32efd1d button.colab-df-convert');\n",
              "        buttonEl.style.display =\n",
              "          google.colab.kernel.accessAllowed ? 'block' : 'none';\n",
              "\n",
              "        async function convertToInteractive(key) {\n",
              "          const element = document.querySelector('#df-0ad12d06-0039-4577-9407-9fd6d32efd1d');\n",
              "          const dataTable =\n",
              "            await google.colab.kernel.invokeFunction('convertToInteractive',\n",
              "                                                     [key], {});\n",
              "          if (!dataTable) return;\n",
              "\n",
              "          const docLinkHtml = 'Like what you see? Visit the ' +\n",
              "            '<a target=\"_blank\" href=https://colab.research.google.com/notebooks/data_table.ipynb>data table notebook</a>'\n",
              "            + ' to learn more about interactive tables.';\n",
              "          element.innerHTML = '';\n",
              "          dataTable['output_type'] = 'display_data';\n",
              "          await google.colab.output.renderOutput(dataTable, element);\n",
              "          const docLink = document.createElement('div');\n",
              "          docLink.innerHTML = docLinkHtml;\n",
              "          element.appendChild(docLink);\n",
              "        }\n",
              "      </script>\n",
              "    </div>\n",
              "  </div>\n",
              "  "
            ],
            "text/plain": [
              "   companyName  designation  experienceMas  qualificationMas  \\\n",
              "0     0.000695     0.008324       0.001108          0.004041   \n",
              "1     0.000237     0.006851       0.003058          0.010237   \n",
              "2     0.011345     0.009607       0.002305          0.000539   \n",
              "3     0.001725     0.001271       0.003546          0.000539   \n",
              "4     0.006422     0.008968       0.010726          0.012123   \n",
              "\n",
              "   qualificationMas2    salary  \n",
              "0           0.007620  0.001818  \n",
              "1           0.000709  0.001355  \n",
              "2           0.007620  0.022758  \n",
              "3           0.005848  0.002181  \n",
              "4           0.008506  0.004335  "
            ]
          },
          "execution_count": 18,
          "metadata": {},
          "output_type": "execute_result"
        }
      ],
      "source": [
        "data = pd.DataFrame(normalize(df,axis=0), columns=df.columns)\n",
        "data.head()"
      ]
    },
    {
      "cell_type": "markdown",
      "metadata": {
        "id": "lejISXSHxala"
      },
      "source": [
        "\n",
        "\n",
        "*   Data after normalizing\n",
        "\n"
      ]
    },
    {
      "cell_type": "code",
      "execution_count": 19,
      "metadata": {
        "colab": {
          "base_uri": "https://localhost:8080/",
          "height": 265
        },
        "id": "-R4nV4OrxSqk",
        "outputId": "4def12f3-2419-491d-e58a-3d33e176fce3"
      },
      "outputs": [
        {
          "data": {
            "image/png": "[encoded data removed]",
            "text/plain": [
              "<Figure size 432x288 with 1 Axes>"
            ]
          },
          "metadata": {
            "needs_background": "light"
          },
          "output_type": "display_data"
        }
      ],
      "source": [
        "X = data[[\"companyName\",\t\"designation\"\t,\"experienceMas\",\"qualificationMas\",\t\"qualificationMas2\",\"salary\"]]\n",
        "ax =plt.plot(X.index,X)\n",
        "plt.xlim(0,15)\n",
        "plt.legend(ax[:],[\"companyName\",\t\"designation\"\t,\"experienceMas\",\"qualificationMas\",\t\"qualificationMas2\",\"salary\"]);\n"
      ]
    },
    {
      "cell_type": "markdown",
      "metadata": {
        "id": "npZ7YJg37MfM"
      },
      "source": [
        "\n",
        "\n",
        "*   From the figure, we observe that the attributes are in same scale\n",
        "\n"
      ]
    },
    {
      "cell_type": "markdown",
      "metadata": {
        "id": "vkK7V7rQfNac"
      },
      "source": [
        "# Feature - correlation"
      ]
    },
    {
      "cell_type": "markdown",
      "metadata": {
        "id": "sPH4EUaB7VgT"
      },
      "source": [
        "\n",
        "\n",
        "*   Let us see the relation between each pair of variables. Inorder to find the relation between these variables, we use correlation(a statistical measure that expresses the extent to which two variables are linearly related)\n",
        "\n",
        "\n",
        "\n",
        "\n",
        "\n"
      ]
    },
    {
      "cell_type": "code",
      "execution_count": 20,
      "metadata": {
        "colab": {
          "base_uri": "https://localhost:8080/",
          "height": 365
        },
        "id": "Y1wAq9LvfTIL",
        "outputId": "d94226f2-0864-42b2-e3b1-c3c4ec601b7d"
      },
      "outputs": [
        {
          "data": {
            "text/plain": [
              "<matplotlib.axes._subplots.AxesSubplot at 0x7f0d83cf5a00>"
            ]
          },
          "execution_count": 20,
          "metadata": {},
          "output_type": "execute_result"
        },
        {
          "data": {
            "image/png": "[encoded data removed]",
            "text/plain": [
              "<Figure size 432x288 with 2 Axes>"
            ]
          },
          "metadata": {
            "needs_background": "light"
          },
          "output_type": "display_data"
        }
      ],
      "source": [
        "sns.heatmap(data.corr(), vmin=-1, vmax=1, annot=True)"
      ]
    },
    {
      "cell_type": "markdown",
      "metadata": {
        "id": "aCcttaSrn7IG"
      },
      "source": [
        "\n",
        "\n",
        "*   From the above heatmap, we can observe that none of the elements are highly correlated with each other. So we should use these six columns to form clusters\n",
        "\n",
        "\n"
      ]
    },
    {
      "cell_type": "markdown",
      "metadata": {
        "id": "pCdl2Q_uHXJn"
      },
      "source": [
        "# Principal Component Analysis\n",
        "*  Visualizing clustered scatter plot of such a high-dimensional data isn't feasible.\n",
        "\n",
        "*  To get two of all columns for such a plot, I utilized the Principal Component Analysis."
      ]
    },
    {
      "cell_type": "code",
      "execution_count": 21,
      "metadata": {
        "id": "vVR8DcZD0-aE"
      },
      "outputs": [],
      "source": [
        "# define transform\n",
        "pca = PCA(n_components=2)\n",
        "# prepare transform on dataset\n",
        "pca.fit(data)\n",
        "# apply transform to dataset\n",
        "data = pca.transform(data)"
      ]
    },
    {
      "cell_type": "code",
      "execution_count": 22,
      "metadata": {
        "colab": {
          "base_uri": "https://localhost:8080/",
          "height": 282
        },
        "id": "NxsKC1omHkrD",
        "outputId": "a9d32eaf-bc31-4fc2-bd26-68c7f8f4fc3c"
      },
      "outputs": [
        {
          "data": {
            "text/plain": [
              "<matplotlib.collections.PathCollection at 0x7f0d81671f40>"
            ]
          },
          "execution_count": 22,
          "metadata": {},
          "output_type": "execute_result"
        },
        {
          "data": {
            "image/png": "[encoded data removed]",
            "text/plain": [
              "<Figure size 432x288 with 1 Axes>"
            ]
          },
          "metadata": {
            "needs_background": "light"
          },
          "output_type": "display_data"
        }
      ],
      "source": [
        "\n",
        "plt.scatter(data.T[1,:],data.T[0,:])"
      ]
    },
    {
      "cell_type": "markdown",
      "metadata": {
        "id": "RZ4hArNb9sru"
      },
      "source": [
        "# Find Optimal Value of K"
      ]
    },
    {
      "cell_type": "markdown",
      "metadata": {
        "id": "yzUG8kYc9w9C"
      },
      "source": [
        "**Elbow Method**"
      ]
    },
    {
      "cell_type": "code",
      "execution_count": 23,
      "metadata": {
        "colab": {
          "base_uri": "https://localhost:8080/",
          "height": 295
        },
        "id": "lmuLsOW-fVDI",
        "outputId": "674b9e90-0368-43bb-8d70-aeb529edc3dc"
      },
      "outputs": [
        {
          "data": {
            "image/png": "[encoded data removed]",
            "text/plain": [
              "<Figure size 432x288 with 1 Axes>"
            ]
          },
          "metadata": {
            "needs_background": "light"
          },
          "output_type": "display_data"
        }
      ],
      "source": [
        "Sum_of_squared_distances = []\n",
        "K = range(2,9)\n",
        "for num_clusters in K :\n",
        "    kmeans = KMeans(n_clusters=num_clusters)\n",
        "    kmeans.fit(data)\n",
        "    Sum_of_squared_distances.append(kmeans.inertia_)\n",
        "\n",
        "plt.plot(K,Sum_of_squared_distances,'x-')\n",
        "plt.xlabel('Values of K')\n",
        "plt.ylabel('Sum of squared distances/Inertia')\n",
        "plt.title('Elbow Method For Optimal k')\n",
        "plt.show()"
      ]
    },
    {
      "cell_type": "markdown",
      "metadata": {
        "id": "FjJv4odJGhGB"
      },
      "source": [
        "\n",
        "*   Perform K-means clustering with all these different values of K. For each of the K values, we calculate average distances to the centroid across all data points.\n",
        "*   when Plotted these points i find the point where the average distance from the centroid falls suddenly here it is 3\n",
        "\n"
      ]
    },
    {
      "cell_type": "markdown",
      "metadata": {
        "id": "Ue0BIxJp-C-s"
      },
      "source": [
        "**Silhouette analysis**"
      ]
    },
    {
      "cell_type": "code",
      "execution_count": 42,
      "metadata": {
        "colab": {
          "base_uri": "https://localhost:8080/",
          "height": 295
        },
        "id": "ezKkAORW91-t",
        "outputId": "d1247d04-756b-43f9-8e9d-060f94a77ad3"
      },
      "outputs": [
        {
          "data": {
            "image/png": "[encoded data removed]",
            "text/plain": [
              "<Figure size 432x288 with 1 Axes>"
            ]
          },
          "metadata": {
            "needs_background": "light"
          },
          "output_type": "display_data"
        }
      ],
      "source": [
        "range_n_clusters = [3, 4, 5, 6, 7, 8]\n",
        "silhouette_avg = []\n",
        "for num_clusters in range_n_clusters:\n",
        "    # initialise kmeans\n",
        "    kmeans = KMeans(n_clusters=num_clusters)\n",
        "    kmeans.fit(data)\n",
        "    cluster_labels = kmeans.labels_\n",
        "    # silhouette score\n",
        "    silhouette_avg.append(silhouette_score(data, cluster_labels))\n",
        "\n",
        "plt.plot(range_n_clusters,silhouette_avg,'x-')\n",
        "plt.xlabel('Values of K')\n",
        "plt.ylabel('Silhouette score')\n",
        "plt.title('Silhouette analysis For Optimal k')\n",
        "plt.show()"
      ]
    },
    {
      "cell_type": "markdown",
      "metadata": {
        "id": "dZGh0Kf5G7Xt"
      },
      "source": [
        "\n",
        "\n",
        "*   The silhouette Method is used in combination with the Elbow Method for a more confident decision.\n",
        "*   We see that the silhouette score is maximized at k = 3. So, we will take 3 clusters.\n",
        "\n"
      ]
    },
    {
      "cell_type": "markdown",
      "metadata": {
        "id": "cwXz7ZUFIq3S"
      },
      "source": [
        "**From the above two methods, we find 3 as the optimal k value. So,we will take 3 clusters**"
      ]
    },
    {
      "cell_type": "markdown",
      "metadata": {
        "id": "RRKA-xd0I5zy"
      },
      "source": [
        "# KMeans Clustering Algorithm"
      ]
    },
    {
      "cell_type": "code",
      "execution_count": 25,
      "metadata": {
        "colab": {
          "base_uri": "https://localhost:8080/",
          "height": 389
        },
        "id": "elg45mstFl-X",
        "outputId": "c762e845-2a23-4399-9052-d5b451f37b43"
      },
      "outputs": [
        {
          "data": {
            "image/png": "[encoded data removed]",
            "text/plain": [
              "<Figure size 720x432 with 1 Axes>"
            ]
          },
          "metadata": {
            "needs_background": "light"
          },
          "output_type": "display_data"
        }
      ],
      "source": [
        "clusters=3 #from above analysis for optimal value of k\n",
        "kmeans = KMeans(n_clusters=clusters, init='k-means++')\n",
        "kmeans.fit(data)\n",
        "pred = kmeans.predict(data)\n",
        "data = pd.DataFrame(data, columns = ['pca_feature_1','pca_feature_2']) # features selected by using PCA\n",
        "data['cluster'] = pred\n",
        "\n",
        "# Plot Showing Clusters using features [2] selected from PCA\n",
        "plt.figure(figsize=(10,6))\n",
        "sns.scatterplot(data=data, x=data.pca_feature_1, y=data.pca_feature_2, hue='cluster', palette=sns.color_palette(\"hls\",clusters), legend=\"full\")\n",
        "plt.show()\n"
      ]
    },
    {
      "cell_type": "code",
      "execution_count": 26,
      "metadata": {
        "colab": {
          "base_uri": "https://localhost:8080/",
          "height": 676
        },
        "id": "5QffvdK1I_jL",
        "outputId": "2212c188-7290-47aa-8161-7d62bada233d"
      },
      "outputs": [
        {
          "data": {
            "text/html": [
              "\n",
              "  <div id=\"df-e8eed7e2-5fda-4d44-970a-b1fedd432d4b\">\n",
              "    <div class=\"colab-df-container\">\n",
              "      <div>\n",
              "<style scoped>\n",
              "    .dataframe tbody tr th:only-of-type {\n",
              "        vertical-align: middle;\n",
              "    }\n",
              "\n",
              "    .dataframe tbody tr th {\n",
              "        vertical-align: top;\n",
              "    }\n",
              "\n",
              "    .dataframe thead th {\n",
              "        text-align: right;\n",
              "    }\n",
              "</style>\n",
              "<table border=\"1\" class=\"dataframe\">\n",
              "  <thead>\n",
              "    <tr style=\"text-align: right;\">\n",
              "      <th></th>\n",
              "      <th>candidateName</th>\n",
              "      <th>companyName</th>\n",
              "      <th>designation</th>\n",
              "      <th>experienceMas</th>\n",
              "      <th>locationCurrentMas</th>\n",
              "      <th>qualificationMas</th>\n",
              "      <th>qualificationMas2</th>\n",
              "      <th>salary</th>\n",
              "      <th>Category</th>\n",
              "      <th>cluster</th>\n",
              "    </tr>\n",
              "  </thead>\n",
              "  <tbody>\n",
              "    <tr>\n",
              "      <th>0</th>\n",
              "      <td>Ruchismita Dash</td>\n",
              "      <td>Amdocs</td>\n",
              "      <td>Software Developer</td>\n",
              "      <td>2 Year(s) 1 Month(s)</td>\n",
              "      <td>Hyderabad/ Secunderabad</td>\n",
              "      <td>BE/ B.Tech (Engineering)</td>\n",
              "      <td>NaN</td>\n",
              "      <td>Rs. 6.71 lacs</td>\n",
              "      <td>HYDERABAD-SALARIED</td>\n",
              "      <td>0</td>\n",
              "    </tr>\n",
              "    <tr>\n",
              "      <th>1</th>\n",
              "      <td>Dharani Nadh Bayyana</td>\n",
              "      <td>Infosys Technologies Ltd</td>\n",
              "      <td>Test Analyst</td>\n",
              "      <td>6 Year(s) 6 Month(s)</td>\n",
              "      <td>Hyderabad/ Secunderabad</td>\n",
              "      <td>B.Sc. (Science)</td>\n",
              "      <td>ME/ M.Tech./ MS (Engg/ Sciences)</td>\n",
              "      <td>Rs. 6.0 lacs</td>\n",
              "      <td>HYDERABAD-SALARIED</td>\n",
              "      <td>0</td>\n",
              "    </tr>\n",
              "    <tr>\n",
              "      <th>2</th>\n",
              "      <td>Sanket Patni</td>\n",
              "      <td>Hsbc Software Development India Pvt Ltd</td>\n",
              "      <td>Software Test Engineer</td>\n",
              "      <td>3 Year(s) 8 Month(s)</td>\n",
              "      <td>Hyderabad/ Secunderabad</td>\n",
              "      <td>BE/ B.Tech (Engineering)</td>\n",
              "      <td>NaN</td>\n",
              "      <td>Rs. 6.0 lacs</td>\n",
              "      <td>HYDERABAD-SALARIED</td>\n",
              "      <td>0</td>\n",
              "    </tr>\n",
              "    <tr>\n",
              "      <th>3</th>\n",
              "      <td>vasavi</td>\n",
              "      <td>Randstad India Ltd.</td>\n",
              "      <td>Analyst</td>\n",
              "      <td>4 Year(s) 3 Month(s)</td>\n",
              "      <td>Hyderabad/ Secunderabad</td>\n",
              "      <td>BE/ B.Tech (Engineering)</td>\n",
              "      <td>NaN</td>\n",
              "      <td>Rs. 5.08 lacs</td>\n",
              "      <td>HYDERABAD-SALARIED</td>\n",
              "      <td>0</td>\n",
              "    </tr>\n",
              "    <tr>\n",
              "      <th>4</th>\n",
              "      <td>Anil SiRONMANI</td>\n",
              "      <td>Deloitte Support Services India Pvt Ltd</td>\n",
              "      <td>Debtor Management</td>\n",
              "      <td>10 Year(s)</td>\n",
              "      <td>Hyderabad/ Secunderabad</td>\n",
              "      <td>B.Com. (Commerce)</td>\n",
              "      <td>MBA/ PGDM</td>\n",
              "      <td>Rs. 7.3 lacs</td>\n",
              "      <td>HYDERABAD-SALARIED</td>\n",
              "      <td>0</td>\n",
              "    </tr>\n",
              "    <tr>\n",
              "      <th>...</th>\n",
              "      <td>...</td>\n",
              "      <td>...</td>\n",
              "      <td>...</td>\n",
              "      <td>...</td>\n",
              "      <td>...</td>\n",
              "      <td>...</td>\n",
              "      <td>...</td>\n",
              "      <td>...</td>\n",
              "      <td>...</td>\n",
              "      <td>...</td>\n",
              "    </tr>\n",
              "    <tr>\n",
              "      <th>16995</th>\n",
              "      <td>venkata ramana kothuri</td>\n",
              "      <td>y.sapphireTVS</td>\n",
              "      <td>manager-audit&amp;accounts</td>\n",
              "      <td>31 Year(s) 4 Month(s)</td>\n",
              "      <td>Hyderabad/ Secunderabad</td>\n",
              "      <td>B.V.Sc. (Veterinary Science)</td>\n",
              "      <td>NaN</td>\n",
              "      <td>Rs. 7.0 lacs</td>\n",
              "      <td>HYDERABAD-SALARIED</td>\n",
              "      <td>0</td>\n",
              "    </tr>\n",
              "    <tr>\n",
              "      <th>16996</th>\n",
              "      <td>Jyotsna Bhosale</td>\n",
              "      <td>Tata Teleservices  ( M )  Ltd</td>\n",
              "      <td>Assistant Manager - HR- Lead Assocaite Managment</td>\n",
              "      <td>18 Year(s) 6 Month(s)</td>\n",
              "      <td>Hyderabad/ Secunderabad</td>\n",
              "      <td>B.Sc. (Science)</td>\n",
              "      <td>Diploma-Other Diploma</td>\n",
              "      <td>Rs. 11.02 lacs</td>\n",
              "      <td>HYDERABAD-SALARIED</td>\n",
              "      <td>0</td>\n",
              "    </tr>\n",
              "    <tr>\n",
              "      <th>16997</th>\n",
              "      <td>S Murhty</td>\n",
              "      <td>Mylan Laboratories Ltd</td>\n",
              "      <td>Asst. Manager</td>\n",
              "      <td>17 Year(s) 10 Month(s)</td>\n",
              "      <td>Hyderabad/ Secunderabad</td>\n",
              "      <td>B.Sc. (Science)</td>\n",
              "      <td>NaN</td>\n",
              "      <td>Rs. 5.06 lacs</td>\n",
              "      <td>HYDERABAD-SALARIED</td>\n",
              "      <td>0</td>\n",
              "    </tr>\n",
              "    <tr>\n",
              "      <th>16998</th>\n",
              "      <td>SRINIVASA GUDIMETLA</td>\n",
              "      <td>J.B CHEMICALS  &amp;  PHARMACEUTICALS LIMITED</td>\n",
              "      <td>REGIONAL COMMERCIAL EXECUTIVE (SOUTH)</td>\n",
              "      <td>6 Year(s)</td>\n",
              "      <td>Hyderabad/ Secunderabad</td>\n",
              "      <td>B.Pharm. (Pharmacy)</td>\n",
              "      <td>NaN</td>\n",
              "      <td>Rs. 6.0 lacs</td>\n",
              "      <td>HYDERABAD-SALARIED</td>\n",
              "      <td>0</td>\n",
              "    </tr>\n",
              "    <tr>\n",
              "      <th>16999</th>\n",
              "      <td>BILLA JANARDHAN SAMBA MURHTY</td>\n",
              "      <td>Berkadia Services India Pvt Ltd</td>\n",
              "      <td>Senior Financial Analyst</td>\n",
              "      <td>3 Year(s) 5 Month(s)</td>\n",
              "      <td>Hyderabad/ Secunderabad</td>\n",
              "      <td>B.Com. (Commerce)</td>\n",
              "      <td>MBA/ PGDM</td>\n",
              "      <td>Rs. 6.4 lacs</td>\n",
              "      <td>HYDERABAD-SALARIED</td>\n",
              "      <td>0</td>\n",
              "    </tr>\n",
              "  </tbody>\n",
              "</table>\n",
              "<p>17000 rows × 10 columns</p>\n",
              "</div>\n",
              "      <button class=\"colab-df-convert\" onclick=\"convertToInteractive('df-e8eed7e2-5fda-4d44-970a-b1fedd432d4b')\"\n",
              "              title=\"Convert this dataframe to an interactive table.\"\n",
              "              style=\"display:none;\">\n",
              "        \n",
              "  <svg xmlns=\"http://www.w3.org/2000/svg\" height=\"24px\"viewBox=\"0 0 24 24\"\n",
              "       width=\"24px\">\n",
              "    <path d=\"M0 0h24v24H0V0z\" fill=\"none\"/>\n",
              "    <path d=\"M18.56 5.44l.94 2.06.94-2.06 2.06-.94-2.06-.94-.94-2.06-.94 2.06-2.06.94zm-11 1L8.5 8.5l.94-2.06 2.06-.94-2.06-.94L8.5 2.5l-.94 2.06-2.06.94zm10 10l.94 2.06.94-2.06 2.06-.94-2.06-.94-.94-2.06-.94 2.06-2.06.94z\"/><path d=\"M17.41 7.96l-1.37-1.37c-.4-.4-.92-.59-1.43-.59-.52 0-1.04.2-1.43.59L10.3 9.45l-7.72 7.72c-.78.78-.78 2.05 0 2.83L4 21.41c.39.39.9.59 1.41.59.51 0 1.02-.2 1.41-.59l7.78-7.78 2.81-2.81c.8-.78.8-2.07 0-2.86zM5.41 20L4 18.59l7.72-7.72 1.47 1.35L5.41 20z\"/>\n",
              "  </svg>\n",
              "      </button>\n",
              "      \n",
              "  <style>\n",
              "    .colab-df-container {\n",
              "      display:flex;\n",
              "      flex-wrap:wrap;\n",
              "      gap: 12px;\n",
              "    }\n",
              "\n",
              "    .colab-df-convert {\n",
              "      background-color: #E8F0FE;\n",
              "      border: none;\n",
              "      border-radius: 50%;\n",
              "      cursor: pointer;\n",
              "      display: none;\n",
              "      fill: #1967D2;\n",
              "      height: 32px;\n",
              "      padding: 0 0 0 0;\n",
              "      width: 32px;\n",
              "    }\n",
              "\n",
              "    .colab-df-convert:hover {\n",
              "      background-color: #E2EBFA;\n",
              "      box-shadow: 0px 1px 2px rgba(60, 64, 67, 0.3), 0px 1px 3px 1px rgba(60, 64, 67, 0.15);\n",
              "      fill: #174EA6;\n",
              "    }\n",
              "\n",
              "    [theme=dark] .colab-df-convert {\n",
              "      background-color: #3B4455;\n",
              "      fill: #D2E3FC;\n",
              "    }\n",
              "\n",
              "    [theme=dark] .colab-df-convert:hover {\n",
              "      background-color: #434B5C;\n",
              "      box-shadow: 0px 1px 3px 1px rgba(0, 0, 0, 0.15);\n",
              "      filter: drop-shadow(0px 1px 2px rgba(0, 0, 0, 0.3));\n",
              "      fill: #FFFFFF;\n",
              "    }\n",
              "  </style>\n",
              "\n",
              "      <script>\n",
              "        const buttonEl =\n",
              "          document.querySelector('#df-e8eed7e2-5fda-4d44-970a-b1fedd432d4b button.colab-df-convert');\n",
              "        buttonEl.style.display =\n",
              "          google.colab.kernel.accessAllowed ? 'block' : 'none';\n",
              "\n",
              "        async function convertToInteractive(key) {\n",
              "          const element = document.querySelector('#df-e8eed7e2-5fda-4d44-970a-b1fedd432d4b');\n",
              "          const dataTable =\n",
              "            await google.colab.kernel.invokeFunction('convertToInteractive',\n",
              "                                                     [key], {});\n",
              "          if (!dataTable) return;\n",
              "\n",
              "          const docLinkHtml = 'Like what you see? Visit the ' +\n",
              "            '<a target=\"_blank\" href=https://colab.research.google.com/notebooks/data_table.ipynb>data table notebook</a>'\n",
              "            + ' to learn more about interactive tables.';\n",
              "          element.innerHTML = '';\n",
              "          dataTable['output_type'] = 'display_data';\n",
              "          await google.colab.output.renderOutput(dataTable, element);\n",
              "          const docLink = document.createElement('div');\n",
              "          docLink.innerHTML = docLinkHtml;\n",
              "          element.appendChild(docLink);\n",
              "        }\n",
              "      </script>\n",
              "    </div>\n",
              "  </div>\n",
              "  "
            ],
            "text/plain": [
              "                      candidateName  \\\n",
              "0                   Ruchismita Dash   \n",
              "1              Dharani Nadh Bayyana   \n",
              "2                      Sanket Patni   \n",
              "3                            vasavi   \n",
              "4                    Anil SiRONMANI   \n",
              "...                             ...   \n",
              "16995        venkata ramana kothuri   \n",
              "16996               Jyotsna Bhosale   \n",
              "16997                      S Murhty   \n",
              "16998           SRINIVASA GUDIMETLA   \n",
              "16999  BILLA JANARDHAN SAMBA MURHTY   \n",
              "\n",
              "                                      companyName  \\\n",
              "0                                         Amdocs    \n",
              "1                       Infosys Technologies Ltd    \n",
              "2        Hsbc Software Development India Pvt Ltd    \n",
              "3                            Randstad India Ltd.    \n",
              "4        Deloitte Support Services India Pvt Ltd    \n",
              "...                                           ...   \n",
              "16995                              y.sapphireTVS    \n",
              "16996              Tata Teleservices  ( M )  Ltd    \n",
              "16997                     Mylan Laboratories Ltd    \n",
              "16998  J.B CHEMICALS  &  PHARMACEUTICALS LIMITED    \n",
              "16999            Berkadia Services India Pvt Ltd    \n",
              "\n",
              "                                            designation  \\\n",
              "0                                    Software Developer   \n",
              "1                                          Test Analyst   \n",
              "2                                Software Test Engineer   \n",
              "3                                               Analyst   \n",
              "4                                     Debtor Management   \n",
              "...                                                 ...   \n",
              "16995                            manager-audit&accounts   \n",
              "16996  Assistant Manager - HR- Lead Assocaite Managment   \n",
              "16997                                     Asst. Manager   \n",
              "16998             REGIONAL COMMERCIAL EXECUTIVE (SOUTH)   \n",
              "16999                          Senior Financial Analyst   \n",
              "\n",
              "                experienceMas       locationCurrentMas  \\\n",
              "0        2 Year(s) 1 Month(s)  Hyderabad/ Secunderabad   \n",
              "1        6 Year(s) 6 Month(s)  Hyderabad/ Secunderabad   \n",
              "2        3 Year(s) 8 Month(s)  Hyderabad/ Secunderabad   \n",
              "3        4 Year(s) 3 Month(s)  Hyderabad/ Secunderabad   \n",
              "4                 10 Year(s)   Hyderabad/ Secunderabad   \n",
              "...                       ...                      ...   \n",
              "16995   31 Year(s) 4 Month(s)  Hyderabad/ Secunderabad   \n",
              "16996   18 Year(s) 6 Month(s)  Hyderabad/ Secunderabad   \n",
              "16997  17 Year(s) 10 Month(s)  Hyderabad/ Secunderabad   \n",
              "16998              6 Year(s)   Hyderabad/ Secunderabad   \n",
              "16999    3 Year(s) 5 Month(s)  Hyderabad/ Secunderabad   \n",
              "\n",
              "                   qualificationMas                 qualificationMas2  \\\n",
              "0          BE/ B.Tech (Engineering)                               NaN   \n",
              "1                   B.Sc. (Science)  ME/ M.Tech./ MS (Engg/ Sciences)   \n",
              "2          BE/ B.Tech (Engineering)                               NaN   \n",
              "3          BE/ B.Tech (Engineering)                               NaN   \n",
              "4                 B.Com. (Commerce)                         MBA/ PGDM   \n",
              "...                             ...                               ...   \n",
              "16995  B.V.Sc. (Veterinary Science)                               NaN   \n",
              "16996               B.Sc. (Science)             Diploma-Other Diploma   \n",
              "16997               B.Sc. (Science)                               NaN   \n",
              "16998           B.Pharm. (Pharmacy)                               NaN   \n",
              "16999             B.Com. (Commerce)                         MBA/ PGDM   \n",
              "\n",
              "               salary            Category  cluster  \n",
              "0       Rs. 6.71 lacs  HYDERABAD-SALARIED        0  \n",
              "1        Rs. 6.0 lacs  HYDERABAD-SALARIED        0  \n",
              "2        Rs. 6.0 lacs  HYDERABAD-SALARIED        0  \n",
              "3       Rs. 5.08 lacs  HYDERABAD-SALARIED        0  \n",
              "4        Rs. 7.3 lacs  HYDERABAD-SALARIED        0  \n",
              "...               ...                 ...      ...  \n",
              "16995    Rs. 7.0 lacs  HYDERABAD-SALARIED        0  \n",
              "16996  Rs. 11.02 lacs  HYDERABAD-SALARIED        0  \n",
              "16997   Rs. 5.06 lacs  HYDERABAD-SALARIED        0  \n",
              "16998    Rs. 6.0 lacs  HYDERABAD-SALARIED        0  \n",
              "16999    Rs. 6.4 lacs  HYDERABAD-SALARIED        0  \n",
              "\n",
              "[17000 rows x 10 columns]"
            ]
          },
          "execution_count": 26,
          "metadata": {},
          "output_type": "execute_result"
        }
      ],
      "source": [
        "final['cluster'] = pred\n",
        "final = final.sort_values(by = 'cluster', ignore_index=True)\n",
        "final.head(17000)"
      ]
    },
    {
      "cell_type": "markdown",
      "metadata": {
        "id": "6peKwAjma3T5"
      },
      "source": [
        "# kmedoids"
      ]
    },
    {
      "cell_type": "code",
      "execution_count": 28,
      "metadata": {
        "id": "_kJc-4iNQMZr"
      },
      "outputs": [],
      "source": [
        "data2 = normalize(df,axis=0)"
      ]
    },
    {
      "cell_type": "code",
      "execution_count": 29,
      "metadata": {
        "id": "h4TfNIMVbsBk"
      },
      "outputs": [],
      "source": [
        "# define transform\n",
        "pca = PCA(n_components=2)\n",
        "# prepare transform on dataset\n",
        "pca.fit(data2)\n",
        "# apply transform to dataset\n",
        "data2 = pca.transform(data2)"
      ]
    },
    {
      "cell_type": "code",
      "execution_count": 30,
      "metadata": {
        "colab": {
          "base_uri": "https://localhost:8080/",
          "height": 389
        },
        "id": "hRVPrHqka42M",
        "outputId": "c8976ec8-8f0a-4d6c-ac07-dd9be3aae763"
      },
      "outputs": [
        {
          "data": {
            "image/png": "[encoded data removed]",
            "text/plain": [
              "<Figure size 720x432 with 1 Axes>"
            ]
          },
          "metadata": {
            "needs_background": "light"
          },
          "output_type": "display_data"
        }
      ],
      "source": [
        "kmedoidsmodel = KMedoids(n_clusters= 3)\n",
        "y_kmedoidsmodel= kmedoidsmodel.fit(data2)\n",
        "pred = y_kmedoidsmodel.predict(data2)\n",
        "data2 = pd.DataFrame(data2, columns = ['pca_feature_1','pca_feature_2']) # features selected by using PCA\n",
        "data2['cluster'] = pred\n",
        "\n",
        "# Plot Showing Clusters using features [2] selected from PCA\n",
        "plt.figure(figsize=(10,6))\n",
        "sns.scatterplot(data=data2, x=data2.pca_feature_1, y=data2.pca_feature_2, hue='cluster', palette=sns.color_palette(\"hls\",clusters), legend=\"full\")\n",
        "plt.show()"
      ]
    },
    {
      "cell_type": "code",
      "execution_count": 31,
      "metadata": {
        "colab": {
          "base_uri": "https://localhost:8080/",
          "height": 641
        },
        "id": "r8RIoxFPcfb4",
        "outputId": "dade339a-5a47-4759-ae82-cfefaf2b12b9"
      },
      "outputs": [
        {
          "data": {
            "text/html": [
              "\n",
              "  <div id=\"df-ae3da43c-6993-4901-b1f1-ff34070db5dd\">\n",
              "    <div class=\"colab-df-container\">\n",
              "      <div>\n",
              "<style scoped>\n",
              "    .dataframe tbody tr th:only-of-type {\n",
              "        vertical-align: middle;\n",
              "    }\n",
              "\n",
              "    .dataframe tbody tr th {\n",
              "        vertical-align: top;\n",
              "    }\n",
              "\n",
              "    .dataframe thead th {\n",
              "        text-align: right;\n",
              "    }\n",
              "</style>\n",
              "<table border=\"1\" class=\"dataframe\">\n",
              "  <thead>\n",
              "    <tr style=\"text-align: right;\">\n",
              "      <th></th>\n",
              "      <th>candidateName</th>\n",
              "      <th>companyName</th>\n",
              "      <th>designation</th>\n",
              "      <th>experienceMas</th>\n",
              "      <th>locationCurrentMas</th>\n",
              "      <th>qualificationMas</th>\n",
              "      <th>qualificationMas2</th>\n",
              "      <th>salary</th>\n",
              "      <th>Category</th>\n",
              "      <th>cluster</th>\n",
              "    </tr>\n",
              "  </thead>\n",
              "  <tbody>\n",
              "    <tr>\n",
              "      <th>0</th>\n",
              "      <td>Ramakrishna Kaviti</td>\n",
              "      <td>Surabhi Enterprises</td>\n",
              "      <td>Faculty</td>\n",
              "      <td>31 Year(s)</td>\n",
              "      <td>Hyderabad/ Secunderabad</td>\n",
              "      <td>NaN</td>\n",
              "      <td>MBA/ PGDM</td>\n",
              "      <td>Rs. 30.0 lacs</td>\n",
              "      <td>HYDERABAD-SALARIED</td>\n",
              "      <td>0</td>\n",
              "    </tr>\n",
              "    <tr>\n",
              "      <th>1</th>\n",
              "      <td>talariraju</td>\n",
              "      <td>Currently Unemployed</td>\n",
              "      <td>Currently Unemployed</td>\n",
              "      <td>8 Year(s) 9 Month(s)</td>\n",
              "      <td>Hyderabad/ Secunderabad</td>\n",
              "      <td>NaN</td>\n",
              "      <td>MFA (Fine Arts)</td>\n",
              "      <td>Rs. 30.1 lacs</td>\n",
              "      <td>HYDERABAD-SALARIED</td>\n",
              "      <td>0</td>\n",
              "    </tr>\n",
              "    <tr>\n",
              "      <th>2</th>\n",
              "      <td>A Ambeerao</td>\n",
              "      <td>Milly  glass ; Mombasa ; Kenya</td>\n",
              "      <td>Manager furnace and Batch house</td>\n",
              "      <td>21 Year(s)</td>\n",
              "      <td>Hyderabad/ Secunderabad</td>\n",
              "      <td>Diploma-Engineering</td>\n",
              "      <td>NaN</td>\n",
              "      <td>Rs. 20.0 lacs</td>\n",
              "      <td>HYDERABAD-SALARIED</td>\n",
              "      <td>0</td>\n",
              "    </tr>\n",
              "    <tr>\n",
              "      <th>3</th>\n",
              "      <td>KANAKA REDDY</td>\n",
              "      <td>Novartis Healthcare Pvt Ltd</td>\n",
              "      <td>TRANSITION SPECIALIST</td>\n",
              "      <td>8 Year(s)</td>\n",
              "      <td>Hyderabad/ Secunderabad</td>\n",
              "      <td>B.Com. (Commerce)</td>\n",
              "      <td>MBA/ PGDM</td>\n",
              "      <td>Rs. 6.5 lacs</td>\n",
              "      <td>HYDERABAD-SALARIED</td>\n",
              "      <td>0</td>\n",
              "    </tr>\n",
              "    <tr>\n",
              "      <th>4</th>\n",
              "      <td>Archana Chandel</td>\n",
              "      <td>Ibm India Pvt Ltd</td>\n",
              "      <td>Senior System Analyst</td>\n",
              "      <td>12 Year(s) 7 Month(s)</td>\n",
              "      <td>Hyderabad/ Secunderabad</td>\n",
              "      <td>BE/ B.Tech (Engineering)</td>\n",
              "      <td>NaN</td>\n",
              "      <td>Rs. 15.0 lacs</td>\n",
              "      <td>HYDERABAD-SALARIED</td>\n",
              "      <td>0</td>\n",
              "    </tr>\n",
              "    <tr>\n",
              "      <th>...</th>\n",
              "      <td>...</td>\n",
              "      <td>...</td>\n",
              "      <td>...</td>\n",
              "      <td>...</td>\n",
              "      <td>...</td>\n",
              "      <td>...</td>\n",
              "      <td>...</td>\n",
              "      <td>...</td>\n",
              "      <td>...</td>\n",
              "      <td>...</td>\n",
              "    </tr>\n",
              "    <tr>\n",
              "      <th>16995</th>\n",
              "      <td>Vijay Prakash Dubey</td>\n",
              "      <td>Credit Suisse Services India Pvt. Ltd.</td>\n",
              "      <td>Lead Business Analyst</td>\n",
              "      <td>5 Year(s) 11 Month(s)</td>\n",
              "      <td>Hyderabad/ Secunderabad</td>\n",
              "      <td>BE/ B.Tech (Engineering)</td>\n",
              "      <td>MBA/ PGDM</td>\n",
              "      <td>Rs. 18.0 lacs</td>\n",
              "      <td>HYDERABAD-SALARIED</td>\n",
              "      <td>1</td>\n",
              "    </tr>\n",
              "    <tr>\n",
              "      <th>16996</th>\n",
              "      <td>Sagar Patel</td>\n",
              "      <td>Cgi Information Systems And Management Consult...</td>\n",
              "      <td>Director; BPS</td>\n",
              "      <td>22 Year(s)</td>\n",
              "      <td>Hyderabad/ Secunderabad</td>\n",
              "      <td>B.Sc. (Science)</td>\n",
              "      <td>MBA/ PGDM</td>\n",
              "      <td>Rs. 42.0 lacs</td>\n",
              "      <td>HYDERABAD-SALARIED</td>\n",
              "      <td>1</td>\n",
              "    </tr>\n",
              "    <tr>\n",
              "      <th>16997</th>\n",
              "      <td>ANKITA Kothari</td>\n",
              "      <td>Phoenix global trade solutions pvt ltd</td>\n",
              "      <td>Associate Manager</td>\n",
              "      <td>2 Year(s) 10 Month(s)</td>\n",
              "      <td>Hyderabad/ Secunderabad</td>\n",
              "      <td>B.Com. (Commerce)</td>\n",
              "      <td>CA (Chartered Accountant)</td>\n",
              "      <td>Rs. 7.8 lacs</td>\n",
              "      <td>HYDERABAD-SALARIED</td>\n",
              "      <td>1</td>\n",
              "    </tr>\n",
              "    <tr>\n",
              "      <th>16998</th>\n",
              "      <td>Tulasi Sudha Kammakatla</td>\n",
              "      <td>wipro technologies ltd</td>\n",
              "      <td>TEST LEAD</td>\n",
              "      <td>9 Year(s) 3 Month(s)</td>\n",
              "      <td>Hyderabad/ Secunderabad</td>\n",
              "      <td>B.Com. (Commerce)</td>\n",
              "      <td>NaN</td>\n",
              "      <td>Rs. 8.5 lacs</td>\n",
              "      <td>HYDERABAD-SALARIED</td>\n",
              "      <td>1</td>\n",
              "    </tr>\n",
              "    <tr>\n",
              "      <th>16999</th>\n",
              "      <td>Ankur Garg</td>\n",
              "      <td>Ernst  &amp;  Young Pvt. Ltd.</td>\n",
              "      <td>Execuitve</td>\n",
              "      <td>1 Year(s) 8 Month(s)</td>\n",
              "      <td>Hyderabad/ Secunderabad</td>\n",
              "      <td>B.Com. (Commerce)</td>\n",
              "      <td>CA (Chartered Accountant)</td>\n",
              "      <td>Rs. 8.2 lacs</td>\n",
              "      <td>HYDERABAD-SALARIED</td>\n",
              "      <td>1</td>\n",
              "    </tr>\n",
              "  </tbody>\n",
              "</table>\n",
              "<p>17000 rows × 10 columns</p>\n",
              "</div>\n",
              "      <button class=\"colab-df-convert\" onclick=\"convertToInteractive('df-ae3da43c-6993-4901-b1f1-ff34070db5dd')\"\n",
              "              title=\"Convert this dataframe to an interactive table.\"\n",
              "              style=\"display:none;\">\n",
              "        \n",
              "  <svg xmlns=\"http://www.w3.org/2000/svg\" height=\"24px\"viewBox=\"0 0 24 24\"\n",
              "       width=\"24px\">\n",
              "    <path d=\"M0 0h24v24H0V0z\" fill=\"none\"/>\n",
              "    <path d=\"M18.56 5.44l.94 2.06.94-2.06 2.06-.94-2.06-.94-.94-2.06-.94 2.06-2.06.94zm-11 1L8.5 8.5l.94-2.06 2.06-.94-2.06-.94L8.5 2.5l-.94 2.06-2.06.94zm10 10l.94 2.06.94-2.06 2.06-.94-2.06-.94-.94-2.06-.94 2.06-2.06.94z\"/><path d=\"M17.41 7.96l-1.37-1.37c-.4-.4-.92-.59-1.43-.59-.52 0-1.04.2-1.43.59L10.3 9.45l-7.72 7.72c-.78.78-.78 2.05 0 2.83L4 21.41c.39.39.9.59 1.41.59.51 0 1.02-.2 1.41-.59l7.78-7.78 2.81-2.81c.8-.78.8-2.07 0-2.86zM5.41 20L4 18.59l7.72-7.72 1.47 1.35L5.41 20z\"/>\n",
              "  </svg>\n",
              "      </button>\n",
              "      \n",
              "  <style>\n",
              "    .colab-df-container {\n",
              "      display:flex;\n",
              "      flex-wrap:wrap;\n",
              "      gap: 12px;\n",
              "    }\n",
              "\n",
              "    .colab-df-convert {\n",
              "      background-color: #E8F0FE;\n",
              "      border: none;\n",
              "      border-radius: 50%;\n",
              "      cursor: pointer;\n",
              "      display: none;\n",
              "      fill: #1967D2;\n",
              "      height: 32px;\n",
              "      padding: 0 0 0 0;\n",
              "      width: 32px;\n",
              "    }\n",
              "\n",
              "    .colab-df-convert:hover {\n",
              "      background-color: #E2EBFA;\n",
              "      box-shadow: 0px 1px 2px rgba(60, 64, 67, 0.3), 0px 1px 3px 1px rgba(60, 64, 67, 0.15);\n",
              "      fill: #174EA6;\n",
              "    }\n",
              "\n",
              "    [theme=dark] .colab-df-convert {\n",
              "      background-color: #3B4455;\n",
              "      fill: #D2E3FC;\n",
              "    }\n",
              "\n",
              "    [theme=dark] .colab-df-convert:hover {\n",
              "      background-color: #434B5C;\n",
              "      box-shadow: 0px 1px 3px 1px rgba(0, 0, 0, 0.15);\n",
              "      filter: drop-shadow(0px 1px 2px rgba(0, 0, 0, 0.3));\n",
              "      fill: #FFFFFF;\n",
              "    }\n",
              "  </style>\n",
              "\n",
              "      <script>\n",
              "        const buttonEl =\n",
              "          document.querySelector('#df-ae3da43c-6993-4901-b1f1-ff34070db5dd button.colab-df-convert');\n",
              "        buttonEl.style.display =\n",
              "          google.colab.kernel.accessAllowed ? 'block' : 'none';\n",
              "\n",
              "        async function convertToInteractive(key) {\n",
              "          const element = document.querySelector('#df-ae3da43c-6993-4901-b1f1-ff34070db5dd');\n",
              "          const dataTable =\n",
              "            await google.colab.kernel.invokeFunction('convertToInteractive',\n",
              "                                                     [key], {});\n",
              "          if (!dataTable) return;\n",
              "\n",
              "          const docLinkHtml = 'Like what you see? Visit the ' +\n",
              "            '<a target=\"_blank\" href=https://colab.research.google.com/notebooks/data_table.ipynb>data table notebook</a>'\n",
              "            + ' to learn more about interactive tables.';\n",
              "          element.innerHTML = '';\n",
              "          dataTable['output_type'] = 'display_data';\n",
              "          await google.colab.output.renderOutput(dataTable, element);\n",
              "          const docLink = document.createElement('div');\n",
              "          docLink.innerHTML = docLinkHtml;\n",
              "          element.appendChild(docLink);\n",
              "        }\n",
              "      </script>\n",
              "    </div>\n",
              "  </div>\n",
              "  "
            ],
            "text/plain": [
              "                 candidateName  \\\n",
              "0           Ramakrishna Kaviti   \n",
              "1                   talariraju   \n",
              "2                   A Ambeerao   \n",
              "3                 KANAKA REDDY   \n",
              "4              Archana Chandel   \n",
              "...                        ...   \n",
              "16995      Vijay Prakash Dubey   \n",
              "16996              Sagar Patel   \n",
              "16997           ANKITA Kothari   \n",
              "16998  Tulasi Sudha Kammakatla   \n",
              "16999               Ankur Garg   \n",
              "\n",
              "                                             companyName  \\\n",
              "0                                   Surabhi Enterprises    \n",
              "1                                  Currently Unemployed    \n",
              "2                        Milly  glass ; Mombasa ; Kenya    \n",
              "3                           Novartis Healthcare Pvt Ltd    \n",
              "4                                     Ibm India Pvt Ltd    \n",
              "...                                                  ...   \n",
              "16995            Credit Suisse Services India Pvt. Ltd.    \n",
              "16996  Cgi Information Systems And Management Consult...   \n",
              "16997            Phoenix global trade solutions pvt ltd    \n",
              "16998                            wipro technologies ltd    \n",
              "16999                         Ernst  &  Young Pvt. Ltd.    \n",
              "\n",
              "                           designation          experienceMas  \\\n",
              "0                              Faculty            31 Year(s)    \n",
              "1                 Currently Unemployed   8 Year(s) 9 Month(s)   \n",
              "2      Manager furnace and Batch house            21 Year(s)    \n",
              "3                TRANSITION SPECIALIST             8 Year(s)    \n",
              "4                Senior System Analyst  12 Year(s) 7 Month(s)   \n",
              "...                                ...                    ...   \n",
              "16995            Lead Business Analyst  5 Year(s) 11 Month(s)   \n",
              "16996                    Director; BPS            22 Year(s)    \n",
              "16997                Associate Manager  2 Year(s) 10 Month(s)   \n",
              "16998                        TEST LEAD   9 Year(s) 3 Month(s)   \n",
              "16999                        Execuitve   1 Year(s) 8 Month(s)   \n",
              "\n",
              "            locationCurrentMas          qualificationMas  \\\n",
              "0      Hyderabad/ Secunderabad                       NaN   \n",
              "1      Hyderabad/ Secunderabad                       NaN   \n",
              "2      Hyderabad/ Secunderabad       Diploma-Engineering   \n",
              "3      Hyderabad/ Secunderabad         B.Com. (Commerce)   \n",
              "4      Hyderabad/ Secunderabad  BE/ B.Tech (Engineering)   \n",
              "...                        ...                       ...   \n",
              "16995  Hyderabad/ Secunderabad  BE/ B.Tech (Engineering)   \n",
              "16996  Hyderabad/ Secunderabad           B.Sc. (Science)   \n",
              "16997  Hyderabad/ Secunderabad         B.Com. (Commerce)   \n",
              "16998  Hyderabad/ Secunderabad         B.Com. (Commerce)   \n",
              "16999  Hyderabad/ Secunderabad         B.Com. (Commerce)   \n",
              "\n",
              "               qualificationMas2         salary            Category  cluster  \n",
              "0                      MBA/ PGDM  Rs. 30.0 lacs  HYDERABAD-SALARIED        0  \n",
              "1                MFA (Fine Arts)  Rs. 30.1 lacs  HYDERABAD-SALARIED        0  \n",
              "2                            NaN  Rs. 20.0 lacs  HYDERABAD-SALARIED        0  \n",
              "3                      MBA/ PGDM   Rs. 6.5 lacs  HYDERABAD-SALARIED        0  \n",
              "4                            NaN  Rs. 15.0 lacs  HYDERABAD-SALARIED        0  \n",
              "...                          ...            ...                 ...      ...  \n",
              "16995                  MBA/ PGDM  Rs. 18.0 lacs  HYDERABAD-SALARIED        1  \n",
              "16996                  MBA/ PGDM  Rs. 42.0 lacs  HYDERABAD-SALARIED        1  \n",
              "16997  CA (Chartered Accountant)   Rs. 7.8 lacs  HYDERABAD-SALARIED        1  \n",
              "16998                        NaN   Rs. 8.5 lacs  HYDERABAD-SALARIED        1  \n",
              "16999  CA (Chartered Accountant)   Rs. 8.2 lacs  HYDERABAD-SALARIED        1  \n",
              "\n",
              "[17000 rows x 10 columns]"
            ]
          },
          "execution_count": 31,
          "metadata": {},
          "output_type": "execute_result"
        }
      ],
      "source": [
        "final['cluster'] = pred\n",
        "final = final.sort_values(by = 'cluster', ignore_index=True)\n",
        "final.head(17000)"
      ]
    },
    {
      "cell_type": "markdown",
      "metadata": {
        "id": "sV0Xg4I9MU6S"
      },
      "source": [
        "# SOM"
      ]
    },
    {
      "cell_type": "code",
      "execution_count": 32,
      "metadata": {
        "id": "Phsa-07rf93I"
      },
      "outputs": [],
      "source": [
        "data3 = normalize(df,axis=0)"
      ]
    },
    {
      "cell_type": "code",
      "execution_count": 33,
      "metadata": {
        "id": "ltVXoewHRvxj"
      },
      "outputs": [],
      "source": [
        "# define transform\n",
        "pca = PCA(n_components=2)\n",
        "# prepare transform on dataset\n",
        "pca.fit(data3)\n",
        "# apply transform to dataset\n",
        "data3 = pca.transform(data3)"
      ]
    },
    {
      "cell_type": "code",
      "execution_count": 34,
      "metadata": {
        "colab": {
          "base_uri": "https://localhost:8080/"
        },
        "id": "2K6-4R8UMXFh",
        "outputId": "21fea87f-339c-48ed-ab21-84e8affb1c82"
      },
      "outputs": [
        {
          "name": "stdout",
          "output_type": "stream",
          "text": [
            " [ 10000 / 10000 ] 100% - 0:00:00 left \n",
            " quantization error: 0.002239985400177926\n"
          ]
        }
      ],
      "source": [
        "model=MiniSom(1,3,2,sigma=0.5, learning_rate=0.3)\n",
        "model.train(data3,10000, verbose=True)"
      ]
    },
    {
      "cell_type": "code",
      "execution_count": 35,
      "metadata": {
        "colab": {
          "base_uri": "https://localhost:8080/"
        },
        "id": "Z2qbXsEDMaJZ",
        "outputId": "ce8101cb-39f9-4a87-b86a-90b36cc75621"
      },
      "outputs": [
        {
          "data": {
            "text/plain": [
              "0.002239985400177926"
            ]
          },
          "execution_count": 35,
          "metadata": {},
          "output_type": "execute_result"
        }
      ],
      "source": [
        "model.quantization_error(data3)"
      ]
    },
    {
      "cell_type": "code",
      "execution_count": 36,
      "metadata": {
        "colab": {
          "base_uri": "https://localhost:8080/",
          "height": 269
        },
        "id": "wxJySvvPoie3",
        "outputId": "df9f633a-200d-41de-e653-5e623d8ed614"
      },
      "outputs": [
        {
          "data": {
            "image/png": "[encoded data removed]",
            "text/plain": [
              "<Figure size 432x288 with 2 Axes>"
            ]
          },
          "metadata": {
            "needs_background": "light"
          },
          "output_type": "display_data"
        }
      ],
      "source": [
        "plt.pcolor(model.activation_response(data3).T, cmap='Blues') \n",
        "plt.colorbar()\n",
        "plt.show()"
      ]
    },
    {
      "cell_type": "code",
      "execution_count": 37,
      "metadata": {
        "id": "eL97zlyfgSgi"
      },
      "outputs": [],
      "source": [
        "SOM_Cluster=[]\n",
        "for record in data3:\n",
        "  SOM_Cluster.append(model.winner(record))"
      ]
    },
    {
      "cell_type": "code",
      "execution_count": 38,
      "metadata": {
        "id": "PwdiPbrbQ0wu"
      },
      "outputs": [],
      "source": [
        "SOM_Cluster_index=[coordiate[0]*4+coordiate[1] for coordiate in SOM_Cluster]"
      ]
    },
    {
      "cell_type": "code",
      "execution_count": 39,
      "metadata": {
        "colab": {
          "base_uri": "https://localhost:8080/",
          "height": 297
        },
        "id": "I_3DkbYmQ4ul",
        "outputId": "a009db65-0fb4-4f31-a51f-a225aba45894"
      },
      "outputs": [
        {
          "data": {
            "text/plain": [
              "<matplotlib.axes._subplots.AxesSubplot at 0x7f0d80bfac70>"
            ]
          },
          "execution_count": 39,
          "metadata": {},
          "output_type": "execute_result"
        },
        {
          "data": {
            "image/png": "[encoded data removed]",
            "text/plain": [
              "<Figure size 432x288 with 1 Axes>"
            ]
          },
          "metadata": {
            "needs_background": "light"
          },
          "output_type": "display_data"
        }
      ],
      "source": [
        "clusters=3\n",
        "data3 = pd.DataFrame(data3, columns = ['pca_feature_1','pca_feature_2']) # features selected by using PCA\n",
        "data3['cluster'] = SOM_Cluster_index\n",
        "sns.scatterplot(data=data3, x=data3.pca_feature_1, y=data3.pca_feature_2, hue='cluster', palette=sns.color_palette(\"hls\",clusters), legend=\"full\")\n",
        "# plt.scatter(data3.T[1,:],data3.T[0,:],c=SOM_Cluster_index,)"
      ]
    },
    {
      "cell_type": "code",
      "execution_count": 40,
      "metadata": {
        "colab": {
          "base_uri": "https://localhost:8080/",
          "height": 676
        },
        "id": "pr37OJy9TFkt",
        "outputId": "4998039f-d977-41df-da4f-3da37f2fa4ec"
      },
      "outputs": [
        {
          "data": {
            "text/html": [
              "\n",
              "  <div id=\"df-5fd0ac29-fbdf-43e5-8c4e-5689f670ea62\">\n",
              "    <div class=\"colab-df-container\">\n",
              "      <div>\n",
              "<style scoped>\n",
              "    .dataframe tbody tr th:only-of-type {\n",
              "        vertical-align: middle;\n",
              "    }\n",
              "\n",
              "    .dataframe tbody tr th {\n",
              "        vertical-align: top;\n",
              "    }\n",
              "\n",
              "    .dataframe thead th {\n",
              "        text-align: right;\n",
              "    }\n",
              "</style>\n",
              "<table border=\"1\" class=\"dataframe\">\n",
              "  <thead>\n",
              "    <tr style=\"text-align: right;\">\n",
              "      <th></th>\n",
              "      <th>candidateName</th>\n",
              "      <th>companyName</th>\n",
              "      <th>designation</th>\n",
              "      <th>experienceMas</th>\n",
              "      <th>locationCurrentMas</th>\n",
              "      <th>qualificationMas</th>\n",
              "      <th>qualificationMas2</th>\n",
              "      <th>salary</th>\n",
              "      <th>Category</th>\n",
              "      <th>cluster</th>\n",
              "    </tr>\n",
              "  </thead>\n",
              "  <tbody>\n",
              "    <tr>\n",
              "      <th>0</th>\n",
              "      <td>Ramakrishna Kaviti</td>\n",
              "      <td>Surabhi Enterprises</td>\n",
              "      <td>Faculty</td>\n",
              "      <td>31 Year(s)</td>\n",
              "      <td>Hyderabad/ Secunderabad</td>\n",
              "      <td>NaN</td>\n",
              "      <td>MBA/ PGDM</td>\n",
              "      <td>Rs. 30.0 lacs</td>\n",
              "      <td>HYDERABAD-SALARIED</td>\n",
              "      <td>0</td>\n",
              "    </tr>\n",
              "    <tr>\n",
              "      <th>1</th>\n",
              "      <td>Damodara Tallam</td>\n",
              "      <td>Model N India Software Pvt Ltd</td>\n",
              "      <td>Architect/Associate Director</td>\n",
              "      <td>17 Year(s) 6 Month(s)</td>\n",
              "      <td>Hyderabad/ Secunderabad</td>\n",
              "      <td>B.Sc. (Science)</td>\n",
              "      <td>MCA/ PGDCA</td>\n",
              "      <td>Rs. 36.0 lacs</td>\n",
              "      <td>HYDERABAD-SALARIED</td>\n",
              "      <td>0</td>\n",
              "    </tr>\n",
              "    <tr>\n",
              "      <th>2</th>\n",
              "      <td>syam prasad</td>\n",
              "      <td>Pete Transformers  ( PETE - Hammond Power Solu...</td>\n",
              "      <td>Dy.Manager Marketing &amp; Customer Services</td>\n",
              "      <td>10 Year(s) 3 Month(s)</td>\n",
              "      <td>Hyderabad/ Secunderabad</td>\n",
              "      <td>B.Com. (Commerce)</td>\n",
              "      <td>MBA/ PGDM</td>\n",
              "      <td>Rs. 5.25 lacs</td>\n",
              "      <td>HYDERABAD-SALARIED</td>\n",
              "      <td>0</td>\n",
              "    </tr>\n",
              "    <tr>\n",
              "      <th>3</th>\n",
              "      <td>Harsh Arora</td>\n",
              "      <td>Maq Software</td>\n",
              "      <td>Software Engineer</td>\n",
              "      <td>1 Year(s) 9 Month(s)</td>\n",
              "      <td>Hyderabad/ Secunderabad</td>\n",
              "      <td>BE/ B.Tech (Engineering)</td>\n",
              "      <td>NaN</td>\n",
              "      <td>Rs. 8.25 lacs</td>\n",
              "      <td>HYDERABAD-SALARIED</td>\n",
              "      <td>0</td>\n",
              "    </tr>\n",
              "    <tr>\n",
              "      <th>4</th>\n",
              "      <td>Srinivas Santosh</td>\n",
              "      <td>Genpact India Pvt Ltd</td>\n",
              "      <td>Senior Manager Project Management</td>\n",
              "      <td>8 Year(s) 3 Month(s)</td>\n",
              "      <td>Hyderabad/ Secunderabad</td>\n",
              "      <td>BE/ B.Tech (Engineering)</td>\n",
              "      <td>MBA/ PGDM</td>\n",
              "      <td>Rs. 16.24 lacs</td>\n",
              "      <td>HYDERABAD-SALARIED</td>\n",
              "      <td>0</td>\n",
              "    </tr>\n",
              "    <tr>\n",
              "      <th>...</th>\n",
              "      <td>...</td>\n",
              "      <td>...</td>\n",
              "      <td>...</td>\n",
              "      <td>...</td>\n",
              "      <td>...</td>\n",
              "      <td>...</td>\n",
              "      <td>...</td>\n",
              "      <td>...</td>\n",
              "      <td>...</td>\n",
              "      <td>...</td>\n",
              "    </tr>\n",
              "    <tr>\n",
              "      <th>16995</th>\n",
              "      <td>nitin deshpande</td>\n",
              "      <td>MSD PHARMACEUTICALS</td>\n",
              "      <td>ASST MANAGER   CORPORATE INITIATIVES  SOUTH INDIA</td>\n",
              "      <td>23 Year(s) 4 Month(s)</td>\n",
              "      <td>Hyderabad/ Secunderabad</td>\n",
              "      <td>B.Sc. (Science)</td>\n",
              "      <td>NaN</td>\n",
              "      <td>Rs. 5.5 lacs</td>\n",
              "      <td>HYDERABAD-SALARIED</td>\n",
              "      <td>0</td>\n",
              "    </tr>\n",
              "    <tr>\n",
              "      <th>16996</th>\n",
              "      <td>Ayank Jain</td>\n",
              "      <td>HSBC Bank</td>\n",
              "      <td>Vice President</td>\n",
              "      <td>7 Year(s) 6 Month(s)</td>\n",
              "      <td>Hyderabad/ Secunderabad</td>\n",
              "      <td>MBA/ PGDM</td>\n",
              "      <td>B.Com. (Commerce)</td>\n",
              "      <td>Rs. 24.0 lacs</td>\n",
              "      <td>HYDERABAD-SALARIED</td>\n",
              "      <td>0</td>\n",
              "    </tr>\n",
              "    <tr>\n",
              "      <th>16997</th>\n",
              "      <td>Objects Reusability</td>\n",
              "      <td>Microsoft</td>\n",
              "      <td>Development Manager</td>\n",
              "      <td>15 Year(s)</td>\n",
              "      <td>Hyderabad/ Secunderabad</td>\n",
              "      <td>MCA/ PGDCA</td>\n",
              "      <td>B.Sc. (Science)</td>\n",
              "      <td>Rs. 26.2 lacs</td>\n",
              "      <td>HYDERABAD-SALARIED</td>\n",
              "      <td>0</td>\n",
              "    </tr>\n",
              "    <tr>\n",
              "      <th>16998</th>\n",
              "      <td>Jose George</td>\n",
              "      <td>MRF Tyres</td>\n",
              "      <td>Deputy  manager</td>\n",
              "      <td>23 Year(s) 4 Month(s)</td>\n",
              "      <td>Hyderabad/ Secunderabad</td>\n",
              "      <td>MBA/ PGDM</td>\n",
              "      <td>B.Sc. (Science)</td>\n",
              "      <td>Rs. 10.0 lacs</td>\n",
              "      <td>HYDERABAD-SALARIED</td>\n",
              "      <td>0</td>\n",
              "    </tr>\n",
              "    <tr>\n",
              "      <th>16999</th>\n",
              "      <td>desu manohar</td>\n",
              "      <td>Jr. College</td>\n",
              "      <td>physics lecturer</td>\n",
              "      <td>10 Year(s)</td>\n",
              "      <td>Hyderabad/ Secunderabad</td>\n",
              "      <td>NaN</td>\n",
              "      <td>Other Post Graduation</td>\n",
              "      <td>Rs. 6.0 lacs</td>\n",
              "      <td>HYDERABAD-SALARIED</td>\n",
              "      <td>0</td>\n",
              "    </tr>\n",
              "  </tbody>\n",
              "</table>\n",
              "<p>17000 rows × 10 columns</p>\n",
              "</div>\n",
              "      <button class=\"colab-df-convert\" onclick=\"convertToInteractive('df-5fd0ac29-fbdf-43e5-8c4e-5689f670ea62')\"\n",
              "              title=\"Convert this dataframe to an interactive table.\"\n",
              "              style=\"display:none;\">\n",
              "        \n",
              "  <svg xmlns=\"http://www.w3.org/2000/svg\" height=\"24px\"viewBox=\"0 0 24 24\"\n",
              "       width=\"24px\">\n",
              "    <path d=\"M0 0h24v24H0V0z\" fill=\"none\"/>\n",
              "    <path d=\"M18.56 5.44l.94 2.06.94-2.06 2.06-.94-2.06-.94-.94-2.06-.94 2.06-2.06.94zm-11 1L8.5 8.5l.94-2.06 2.06-.94-2.06-.94L8.5 2.5l-.94 2.06-2.06.94zm10 10l.94 2.06.94-2.06 2.06-.94-2.06-.94-.94-2.06-.94 2.06-2.06.94z\"/><path d=\"M17.41 7.96l-1.37-1.37c-.4-.4-.92-.59-1.43-.59-.52 0-1.04.2-1.43.59L10.3 9.45l-7.72 7.72c-.78.78-.78 2.05 0 2.83L4 21.41c.39.39.9.59 1.41.59.51 0 1.02-.2 1.41-.59l7.78-7.78 2.81-2.81c.8-.78.8-2.07 0-2.86zM5.41 20L4 18.59l7.72-7.72 1.47 1.35L5.41 20z\"/>\n",
              "  </svg>\n",
              "      </button>\n",
              "      \n",
              "  <style>\n",
              "    .colab-df-container {\n",
              "      display:flex;\n",
              "      flex-wrap:wrap;\n",
              "      gap: 12px;\n",
              "    }\n",
              "\n",
              "    .colab-df-convert {\n",
              "      background-color: #E8F0FE;\n",
              "      border: none;\n",
              "      border-radius: 50%;\n",
              "      cursor: pointer;\n",
              "      display: none;\n",
              "      fill: #1967D2;\n",
              "      height: 32px;\n",
              "      padding: 0 0 0 0;\n",
              "      width: 32px;\n",
              "    }\n",
              "\n",
              "    .colab-df-convert:hover {\n",
              "      background-color: #E2EBFA;\n",
              "      box-shadow: 0px 1px 2px rgba(60, 64, 67, 0.3), 0px 1px 3px 1px rgba(60, 64, 67, 0.15);\n",
              "      fill: #174EA6;\n",
              "    }\n",
              "\n",
              "    [theme=dark] .colab-df-convert {\n",
              "      background-color: #3B4455;\n",
              "      fill: #D2E3FC;\n",
              "    }\n",
              "\n",
              "    [theme=dark] .colab-df-convert:hover {\n",
              "      background-color: #434B5C;\n",
              "      box-shadow: 0px 1px 3px 1px rgba(0, 0, 0, 0.15);\n",
              "      filter: drop-shadow(0px 1px 2px rgba(0, 0, 0, 0.3));\n",
              "      fill: #FFFFFF;\n",
              "    }\n",
              "  </style>\n",
              "\n",
              "      <script>\n",
              "        const buttonEl =\n",
              "          document.querySelector('#df-5fd0ac29-fbdf-43e5-8c4e-5689f670ea62 button.colab-df-convert');\n",
              "        buttonEl.style.display =\n",
              "          google.colab.kernel.accessAllowed ? 'block' : 'none';\n",
              "\n",
              "        async function convertToInteractive(key) {\n",
              "          const element = document.querySelector('#df-5fd0ac29-fbdf-43e5-8c4e-5689f670ea62');\n",
              "          const dataTable =\n",
              "            await google.colab.kernel.invokeFunction('convertToInteractive',\n",
              "                                                     [key], {});\n",
              "          if (!dataTable) return;\n",
              "\n",
              "          const docLinkHtml = 'Like what you see? Visit the ' +\n",
              "            '<a target=\"_blank\" href=https://colab.research.google.com/notebooks/data_table.ipynb>data table notebook</a>'\n",
              "            + ' to learn more about interactive tables.';\n",
              "          element.innerHTML = '';\n",
              "          dataTable['output_type'] = 'display_data';\n",
              "          await google.colab.output.renderOutput(dataTable, element);\n",
              "          const docLink = document.createElement('div');\n",
              "          docLink.innerHTML = docLinkHtml;\n",
              "          element.appendChild(docLink);\n",
              "        }\n",
              "      </script>\n",
              "    </div>\n",
              "  </div>\n",
              "  "
            ],
            "text/plain": [
              "             candidateName                                        companyName  \\\n",
              "0       Ramakrishna Kaviti                               Surabhi Enterprises    \n",
              "1          Damodara Tallam                    Model N India Software Pvt Ltd    \n",
              "2              syam prasad  Pete Transformers  ( PETE - Hammond Power Solu...   \n",
              "3              Harsh Arora                                      Maq Software    \n",
              "4         Srinivas Santosh                             Genpact India Pvt Ltd    \n",
              "...                    ...                                                ...   \n",
              "16995      nitin deshpande                               MSD PHARMACEUTICALS    \n",
              "16996           Ayank Jain                                         HSBC Bank    \n",
              "16997  Objects Reusability                                         Microsoft    \n",
              "16998          Jose George                                         MRF Tyres    \n",
              "16999         desu manohar                                       Jr. College    \n",
              "\n",
              "                                             designation  \\\n",
              "0                                                Faculty   \n",
              "1                           Architect/Associate Director   \n",
              "2               Dy.Manager Marketing & Customer Services   \n",
              "3                                      Software Engineer   \n",
              "4                      Senior Manager Project Management   \n",
              "...                                                  ...   \n",
              "16995  ASST MANAGER   CORPORATE INITIATIVES  SOUTH INDIA   \n",
              "16996                                     Vice President   \n",
              "16997                                Development Manager   \n",
              "16998                                    Deputy  manager   \n",
              "16999                                   physics lecturer   \n",
              "\n",
              "               experienceMas       locationCurrentMas  \\\n",
              "0                31 Year(s)   Hyderabad/ Secunderabad   \n",
              "1      17 Year(s) 6 Month(s)  Hyderabad/ Secunderabad   \n",
              "2      10 Year(s) 3 Month(s)  Hyderabad/ Secunderabad   \n",
              "3       1 Year(s) 9 Month(s)  Hyderabad/ Secunderabad   \n",
              "4       8 Year(s) 3 Month(s)  Hyderabad/ Secunderabad   \n",
              "...                      ...                      ...   \n",
              "16995  23 Year(s) 4 Month(s)  Hyderabad/ Secunderabad   \n",
              "16996   7 Year(s) 6 Month(s)  Hyderabad/ Secunderabad   \n",
              "16997            15 Year(s)   Hyderabad/ Secunderabad   \n",
              "16998  23 Year(s) 4 Month(s)  Hyderabad/ Secunderabad   \n",
              "16999            10 Year(s)   Hyderabad/ Secunderabad   \n",
              "\n",
              "               qualificationMas      qualificationMas2          salary  \\\n",
              "0                           NaN              MBA/ PGDM   Rs. 30.0 lacs   \n",
              "1               B.Sc. (Science)             MCA/ PGDCA   Rs. 36.0 lacs   \n",
              "2             B.Com. (Commerce)              MBA/ PGDM   Rs. 5.25 lacs   \n",
              "3      BE/ B.Tech (Engineering)                    NaN   Rs. 8.25 lacs   \n",
              "4      BE/ B.Tech (Engineering)              MBA/ PGDM  Rs. 16.24 lacs   \n",
              "...                         ...                    ...             ...   \n",
              "16995           B.Sc. (Science)                    NaN    Rs. 5.5 lacs   \n",
              "16996                 MBA/ PGDM      B.Com. (Commerce)   Rs. 24.0 lacs   \n",
              "16997                MCA/ PGDCA        B.Sc. (Science)   Rs. 26.2 lacs   \n",
              "16998                 MBA/ PGDM        B.Sc. (Science)   Rs. 10.0 lacs   \n",
              "16999                       NaN  Other Post Graduation    Rs. 6.0 lacs   \n",
              "\n",
              "                 Category  cluster  \n",
              "0      HYDERABAD-SALARIED        0  \n",
              "1      HYDERABAD-SALARIED        0  \n",
              "2      HYDERABAD-SALARIED        0  \n",
              "3      HYDERABAD-SALARIED        0  \n",
              "4      HYDERABAD-SALARIED        0  \n",
              "...                   ...      ...  \n",
              "16995  HYDERABAD-SALARIED        0  \n",
              "16996  HYDERABAD-SALARIED        0  \n",
              "16997  HYDERABAD-SALARIED        0  \n",
              "16998  HYDERABAD-SALARIED        0  \n",
              "16999  HYDERABAD-SALARIED        0  \n",
              "\n",
              "[17000 rows x 10 columns]"
            ]
          },
          "execution_count": 40,
          "metadata": {},
          "output_type": "execute_result"
        }
      ],
      "source": [
        "final['cluster'] = SOM_Cluster_index\n",
        "final = final.sort_values(by = 'cluster', ignore_index=True)\n",
        "final.head(17000)"
      ]
    },
    {
      "cell_type": "code",
      "execution_count": 41,
      "metadata": {
        "colab": {
          "base_uri": "https://localhost:8080/",
          "height": 641
        },
        "id": "8V7sQ8u9U_Is",
        "outputId": "b518a608-03f8-4e70-b4a8-c37e3c978fb3"
      },
      "outputs": [
        {
          "data": {
            "text/html": [
              "\n",
              "  <div id=\"df-267e748b-2c3d-42f1-9717-0fbafbef7931\">\n",
              "    <div class=\"colab-df-container\">\n",
              "      <div>\n",
              "<style scoped>\n",
              "    .dataframe tbody tr th:only-of-type {\n",
              "        vertical-align: middle;\n",
              "    }\n",
              "\n",
              "    .dataframe tbody tr th {\n",
              "        vertical-align: top;\n",
              "    }\n",
              "\n",
              "    .dataframe thead th {\n",
              "        text-align: right;\n",
              "    }\n",
              "</style>\n",
              "<table border=\"1\" class=\"dataframe\">\n",
              "  <thead>\n",
              "    <tr style=\"text-align: right;\">\n",
              "      <th></th>\n",
              "      <th>candidateName</th>\n",
              "      <th>companyName</th>\n",
              "      <th>designation</th>\n",
              "      <th>experienceMas</th>\n",
              "      <th>locationCurrentMas</th>\n",
              "      <th>qualificationMas</th>\n",
              "      <th>qualificationMas2</th>\n",
              "      <th>salary</th>\n",
              "      <th>Category</th>\n",
              "      <th>cluster</th>\n",
              "    </tr>\n",
              "  </thead>\n",
              "  <tbody>\n",
              "    <tr>\n",
              "      <th>17423</th>\n",
              "      <td>SMRITI GODARA</td>\n",
              "      <td>Zs Associates India Pvt Ltd</td>\n",
              "      <td>Knowledge Management Fellow</td>\n",
              "      <td>2 Year(s)</td>\n",
              "      <td>Hyderabad/ Secunderabad</td>\n",
              "      <td>B.Pharm. (Pharmacy)</td>\n",
              "      <td>NaN</td>\n",
              "      <td>Rs. 5.0 lacs</td>\n",
              "      <td>HYDERABAD-SALARIED</td>\n",
              "      <td>1</td>\n",
              "    </tr>\n",
              "    <tr>\n",
              "      <th>17424</th>\n",
              "      <td>Kameshwari Bhamidi</td>\n",
              "      <td>HCL Technologies Ltd</td>\n",
              "      <td>Senior Technical Manager</td>\n",
              "      <td>14 Year(s)</td>\n",
              "      <td>Hyderabad/ Secunderabad</td>\n",
              "      <td>NaN</td>\n",
              "      <td>B.Sc. (Science)</td>\n",
              "      <td>Rs. 18.0 lacs</td>\n",
              "      <td>HYDERABAD-SALARIED</td>\n",
              "      <td>1</td>\n",
              "    </tr>\n",
              "    <tr>\n",
              "      <th>17425</th>\n",
              "      <td>Santhosh Kumar C</td>\n",
              "      <td>Cognizant Technology Solutions</td>\n",
              "      <td>Associate</td>\n",
              "      <td>3 Year(s) 9 Month(s)</td>\n",
              "      <td>Hyderabad/ Secunderabad</td>\n",
              "      <td>BE/ B.Tech (Engineering)</td>\n",
              "      <td>NaN</td>\n",
              "      <td>Rs. 5.7 lacs</td>\n",
              "      <td>HYDERABAD-SALARIED</td>\n",
              "      <td>1</td>\n",
              "    </tr>\n",
              "    <tr>\n",
              "      <th>17426</th>\n",
              "      <td>Krishna Yeddanapudi</td>\n",
              "      <td>Infosys Technologies Ltd</td>\n",
              "      <td>Test Analyst</td>\n",
              "      <td>9 Year(s) 6 Month(s)</td>\n",
              "      <td>Hyderabad/ Secunderabad</td>\n",
              "      <td>MBA/ PGDM</td>\n",
              "      <td>BE/ B.Tech (Engineering)</td>\n",
              "      <td>Rs. 8.15 lacs</td>\n",
              "      <td>HYDERABAD-SALARIED</td>\n",
              "      <td>1</td>\n",
              "    </tr>\n",
              "    <tr>\n",
              "      <th>17427</th>\n",
              "      <td>Santhosh Reddy Pulugari</td>\n",
              "      <td>Cts Pvt. Ltd.</td>\n",
              "      <td>Senior Analyst</td>\n",
              "      <td>8 Year(s)</td>\n",
              "      <td>Hyderabad/ Secunderabad</td>\n",
              "      <td>NaN</td>\n",
              "      <td>M.Sc. (Science)</td>\n",
              "      <td>Rs. 12.0 lacs</td>\n",
              "      <td>HYDERABAD-SALARIED</td>\n",
              "      <td>1</td>\n",
              "    </tr>\n",
              "    <tr>\n",
              "      <th>...</th>\n",
              "      <td>...</td>\n",
              "      <td>...</td>\n",
              "      <td>...</td>\n",
              "      <td>...</td>\n",
              "      <td>...</td>\n",
              "      <td>...</td>\n",
              "      <td>...</td>\n",
              "      <td>...</td>\n",
              "      <td>...</td>\n",
              "      <td>...</td>\n",
              "    </tr>\n",
              "    <tr>\n",
              "      <th>24208</th>\n",
              "      <td>Rohit Botta</td>\n",
              "      <td>Bank Of America</td>\n",
              "      <td>Senior Analyst</td>\n",
              "      <td>6 Year(s) 1 Month(s)</td>\n",
              "      <td>Hyderabad/ Secunderabad</td>\n",
              "      <td>BE/ B.Tech (Engineering)</td>\n",
              "      <td>MBA/ PGDM</td>\n",
              "      <td>Rs. 6.7 lacs</td>\n",
              "      <td>HYDERABAD-SALARIED</td>\n",
              "      <td>2</td>\n",
              "    </tr>\n",
              "    <tr>\n",
              "      <th>24209</th>\n",
              "      <td>Nikhil Rao</td>\n",
              "      <td>Lukup Media Pvt Ltd</td>\n",
              "      <td>Asst Manager Marketing</td>\n",
              "      <td>2 Year(s) 5 Month(s)</td>\n",
              "      <td>Hyderabad/ Secunderabad</td>\n",
              "      <td>NaN</td>\n",
              "      <td>MBA/ PGDM</td>\n",
              "      <td>Rs. 5.75 lacs</td>\n",
              "      <td>HYDERABAD-SALARIED</td>\n",
              "      <td>2</td>\n",
              "    </tr>\n",
              "    <tr>\n",
              "      <th>24210</th>\n",
              "      <td>Parveen Shaik</td>\n",
              "      <td>Jpmorgan Chase  &amp;  Co</td>\n",
              "      <td>Database Analyst</td>\n",
              "      <td>4 Year(s) 11 Month(s)</td>\n",
              "      <td>Hyderabad/ Secunderabad</td>\n",
              "      <td>B.Sc. (Science)</td>\n",
              "      <td>NaN</td>\n",
              "      <td>Rs. 7.0 lacs</td>\n",
              "      <td>HYDERABAD-SALARIED</td>\n",
              "      <td>2</td>\n",
              "    </tr>\n",
              "    <tr>\n",
              "      <th>24211</th>\n",
              "      <td>A PONMURUGU ARUMUGAM</td>\n",
              "      <td>Israq cotton mills ltd</td>\n",
              "      <td>General Manager - Tech</td>\n",
              "      <td>27 Year(s) 4 Month(s)</td>\n",
              "      <td>Hyderabad/ Secunderabad</td>\n",
              "      <td>Diploma-Other Diploma</td>\n",
              "      <td>NaN</td>\n",
              "      <td>Rs. 12.6 lacs</td>\n",
              "      <td>HYDERABAD-SALARIED</td>\n",
              "      <td>2</td>\n",
              "    </tr>\n",
              "    <tr>\n",
              "      <th>24212</th>\n",
              "      <td>Rakesh</td>\n",
              "      <td>Brijasha Software</td>\n",
              "      <td>Lead Designer</td>\n",
              "      <td>9 Year(s) 3 Month(s)</td>\n",
              "      <td>Hyderabad/ Secunderabad</td>\n",
              "      <td>B.Arch. (Architecture)</td>\n",
              "      <td>NaN</td>\n",
              "      <td>Rs. 7.02 lacs</td>\n",
              "      <td>HYDERABAD-SALARIED</td>\n",
              "      <td>2</td>\n",
              "    </tr>\n",
              "  </tbody>\n",
              "</table>\n",
              "<p>6790 rows × 10 columns</p>\n",
              "</div>\n",
              "      <button class=\"colab-df-convert\" onclick=\"convertToInteractive('df-267e748b-2c3d-42f1-9717-0fbafbef7931')\"\n",
              "              title=\"Convert this dataframe to an interactive table.\"\n",
              "              style=\"display:none;\">\n",
              "        \n",
              "  <svg xmlns=\"http://www.w3.org/2000/svg\" height=\"24px\"viewBox=\"0 0 24 24\"\n",
              "       width=\"24px\">\n",
              "    <path d=\"M0 0h24v24H0V0z\" fill=\"none\"/>\n",
              "    <path d=\"M18.56 5.44l.94 2.06.94-2.06 2.06-.94-2.06-.94-.94-2.06-.94 2.06-2.06.94zm-11 1L8.5 8.5l.94-2.06 2.06-.94-2.06-.94L8.5 2.5l-.94 2.06-2.06.94zm10 10l.94 2.06.94-2.06 2.06-.94-2.06-.94-.94-2.06-.94 2.06-2.06.94z\"/><path d=\"M17.41 7.96l-1.37-1.37c-.4-.4-.92-.59-1.43-.59-.52 0-1.04.2-1.43.59L10.3 9.45l-7.72 7.72c-.78.78-.78 2.05 0 2.83L4 21.41c.39.39.9.59 1.41.59.51 0 1.02-.2 1.41-.59l7.78-7.78 2.81-2.81c.8-.78.8-2.07 0-2.86zM5.41 20L4 18.59l7.72-7.72 1.47 1.35L5.41 20z\"/>\n",
              "  </svg>\n",
              "      </button>\n",
              "      \n",
              "  <style>\n",
              "    .colab-df-container {\n",
              "      display:flex;\n",
              "      flex-wrap:wrap;\n",
              "      gap: 12px;\n",
              "    }\n",
              "\n",
              "    .colab-df-convert {\n",
              "      background-color: #E8F0FE;\n",
              "      border: none;\n",
              "      border-radius: 50%;\n",
              "      cursor: pointer;\n",
              "      display: none;\n",
              "      fill: #1967D2;\n",
              "      height: 32px;\n",
              "      padding: 0 0 0 0;\n",
              "      width: 32px;\n",
              "    }\n",
              "\n",
              "    .colab-df-convert:hover {\n",
              "      background-color: #E2EBFA;\n",
              "      box-shadow: 0px 1px 2px rgba(60, 64, 67, 0.3), 0px 1px 3px 1px rgba(60, 64, 67, 0.15);\n",
              "      fill: #174EA6;\n",
              "    }\n",
              "\n",
              "    [theme=dark] .colab-df-convert {\n",
              "      background-color: #3B4455;\n",
              "      fill: #D2E3FC;\n",
              "    }\n",
              "\n",
              "    [theme=dark] .colab-df-convert:hover {\n",
              "      background-color: #434B5C;\n",
              "      box-shadow: 0px 1px 3px 1px rgba(0, 0, 0, 0.15);\n",
              "      filter: drop-shadow(0px 1px 2px rgba(0, 0, 0, 0.3));\n",
              "      fill: #FFFFFF;\n",
              "    }\n",
              "  </style>\n",
              "\n",
              "      <script>\n",
              "        const buttonEl =\n",
              "          document.querySelector('#df-267e748b-2c3d-42f1-9717-0fbafbef7931 button.colab-df-convert');\n",
              "        buttonEl.style.display =\n",
              "          google.colab.kernel.accessAllowed ? 'block' : 'none';\n",
              "\n",
              "        async function convertToInteractive(key) {\n",
              "          const element = document.querySelector('#df-267e748b-2c3d-42f1-9717-0fbafbef7931');\n",
              "          const dataTable =\n",
              "            await google.colab.kernel.invokeFunction('convertToInteractive',\n",
              "                                                     [key], {});\n",
              "          if (!dataTable) return;\n",
              "\n",
              "          const docLinkHtml = 'Like what you see? Visit the ' +\n",
              "            '<a target=\"_blank\" href=https://colab.research.google.com/notebooks/data_table.ipynb>data table notebook</a>'\n",
              "            + ' to learn more about interactive tables.';\n",
              "          element.innerHTML = '';\n",
              "          dataTable['output_type'] = 'display_data';\n",
              "          await google.colab.output.renderOutput(dataTable, element);\n",
              "          const docLink = document.createElement('div');\n",
              "          docLink.innerHTML = docLinkHtml;\n",
              "          element.appendChild(docLink);\n",
              "        }\n",
              "      </script>\n",
              "    </div>\n",
              "  </div>\n",
              "  "
            ],
            "text/plain": [
              "                 candidateName                      companyName  \\\n",
              "17423            SMRITI GODARA     Zs Associates India Pvt Ltd    \n",
              "17424       Kameshwari Bhamidi            HCL Technologies Ltd    \n",
              "17425         Santhosh Kumar C  Cognizant Technology Solutions    \n",
              "17426      Krishna Yeddanapudi        Infosys Technologies Ltd    \n",
              "17427  Santhosh Reddy Pulugari                   Cts Pvt. Ltd.    \n",
              "...                        ...                              ...   \n",
              "24208              Rohit Botta                 Bank Of America    \n",
              "24209               Nikhil Rao             Lukup Media Pvt Ltd    \n",
              "24210            Parveen Shaik           Jpmorgan Chase  &  Co    \n",
              "24211     A PONMURUGU ARUMUGAM          Israq cotton mills ltd    \n",
              "24212                   Rakesh               Brijasha Software    \n",
              "\n",
              "                       designation          experienceMas  \\\n",
              "17423  Knowledge Management Fellow             2 Year(s)    \n",
              "17424     Senior Technical Manager            14 Year(s)    \n",
              "17425                    Associate   3 Year(s) 9 Month(s)   \n",
              "17426                 Test Analyst   9 Year(s) 6 Month(s)   \n",
              "17427               Senior Analyst             8 Year(s)    \n",
              "...                            ...                    ...   \n",
              "24208               Senior Analyst   6 Year(s) 1 Month(s)   \n",
              "24209       Asst Manager Marketing   2 Year(s) 5 Month(s)   \n",
              "24210             Database Analyst  4 Year(s) 11 Month(s)   \n",
              "24211       General Manager - Tech  27 Year(s) 4 Month(s)   \n",
              "24212                Lead Designer   9 Year(s) 3 Month(s)   \n",
              "\n",
              "            locationCurrentMas          qualificationMas  \\\n",
              "17423  Hyderabad/ Secunderabad       B.Pharm. (Pharmacy)   \n",
              "17424  Hyderabad/ Secunderabad                       NaN   \n",
              "17425  Hyderabad/ Secunderabad  BE/ B.Tech (Engineering)   \n",
              "17426  Hyderabad/ Secunderabad                 MBA/ PGDM   \n",
              "17427  Hyderabad/ Secunderabad                       NaN   \n",
              "...                        ...                       ...   \n",
              "24208  Hyderabad/ Secunderabad  BE/ B.Tech (Engineering)   \n",
              "24209  Hyderabad/ Secunderabad                       NaN   \n",
              "24210  Hyderabad/ Secunderabad           B.Sc. (Science)   \n",
              "24211  Hyderabad/ Secunderabad     Diploma-Other Diploma   \n",
              "24212  Hyderabad/ Secunderabad    B.Arch. (Architecture)   \n",
              "\n",
              "              qualificationMas2         salary            Category  cluster  \n",
              "17423                       NaN   Rs. 5.0 lacs  HYDERABAD-SALARIED        1  \n",
              "17424           B.Sc. (Science)  Rs. 18.0 lacs  HYDERABAD-SALARIED        1  \n",
              "17425                       NaN   Rs. 5.7 lacs  HYDERABAD-SALARIED        1  \n",
              "17426  BE/ B.Tech (Engineering)  Rs. 8.15 lacs  HYDERABAD-SALARIED        1  \n",
              "17427           M.Sc. (Science)  Rs. 12.0 lacs  HYDERABAD-SALARIED        1  \n",
              "...                         ...            ...                 ...      ...  \n",
              "24208                 MBA/ PGDM   Rs. 6.7 lacs  HYDERABAD-SALARIED        2  \n",
              "24209                 MBA/ PGDM  Rs. 5.75 lacs  HYDERABAD-SALARIED        2  \n",
              "24210                       NaN   Rs. 7.0 lacs  HYDERABAD-SALARIED        2  \n",
              "24211                       NaN  Rs. 12.6 lacs  HYDERABAD-SALARIED        2  \n",
              "24212                       NaN  Rs. 7.02 lacs  HYDERABAD-SALARIED        2  \n",
              "\n",
              "[6790 rows x 10 columns]"
            ]
          },
          "execution_count": 41,
          "metadata": {},
          "output_type": "execute_result"
        }
      ],
      "source": [
        "final.tail(6790)"
      ]
    },
    {
      "cell_type": "markdown",
      "metadata": {
        "id": "KXgsLGDU3mCg"
      },
      "source": [
        "# Comparison\n",
        "*  Three algorithms performs better and produced 3 clusters each.\n",
        "*  Among them, i found that KMeans and SOM algorithms produced relatively equal distribution of clusters.\n",
        "*  When i verified the sample datapoints with provided clusters, i found that SOM produced almost accurate results as i thought. \n",
        "*  So, i prefer Self- organizing feature maps algorithm to form clusters for this dataset."
      ]
    },
    {
      "cell_type": "markdown",
      "metadata": {
        "id": "TCvBewd03mLO"
      },
      "source": [
        "# Conclusion\n",
        "**From the formed clusters i found that**\n",
        "*  Cluster 0 represents the employees are well settled and still struggling \n",
        "*  Cluster 1 represents the employees are stress-less living employees(they are happy with what they have)\n",
        "*  Cluster 2 represents the employees are not greatly settled\n",
        "\n",
        "\n",
        "> (the ranges of settlement forming is based on designation the employee posses(either valuable or high authorized or less), companyname(either highly reputed or less), experienced(either well experienced or fresher), qualification(the study qualifications they have), salary(the salary they posses))\n",
        "\n"
      ]
    },
    {
      "cell_type": "code",
      "execution_count": null,
      "metadata": {
        "id": "b-ZXNFCB78rP"
      },
      "outputs": [],
      "source": []
    }
  ],
  "metadata": {
    "colab": {
      "provenance": []
    },
    "kernelspec": {
      "display_name": "Python 3",
      "name": "python3"
    },
    "language_info": {
      "name": "python"
    }
  },
  "nbformat": 4,
  "nbformat_minor": 0
}
